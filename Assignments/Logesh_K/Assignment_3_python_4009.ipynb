{
  "cells": [
    {
      "cell_type": "markdown",
      "source": [
        "## **CNN MODEL FOR CLASSIFICATION OF FLOWERS**"
      ],
      "metadata": {
        "id": "mt75bDRFGP_q"
      }
    },
    {
      "cell_type": "markdown",
      "source": [
        "\n",
        "\n",
        "### 1.   **DOWNLOAD THE DATA SET**\n",
        "\n",
        "\n"
      ],
      "metadata": {
        "id": "F2mn2AzhFAMw"
      }
    },
    {
      "cell_type": "code",
      "execution_count": null,
      "metadata": {
        "colab": {
          "base_uri": "https://localhost:8080/"
        },
        "id": "6L-ZpVyVMXlx",
        "outputId": "ce87a162-5e5d-4b53-d20c-68395fd89db8"
      },
      "outputs": [
        {
          "output_type": "stream",
          "name": "stdout",
          "text": [
            "Drive already mounted at /content/drive; to attempt to forcibly remount, call drive.mount(\"/content/drive\", force_remount=True).\n"
          ]
        }
      ],
      "source": [
        "from google.colab import drive\n",
        "drive.mount('/content/drive')"
      ]
    },
    {
      "cell_type": "code",
      "execution_count": null,
      "metadata": {
        "colab": {
          "base_uri": "https://localhost:8080/"
        },
        "id": "vtMK3fiINBpd",
        "outputId": "f80349c8-17b3-4c8f-c737-3a56adfca08d"
      },
      "outputs": [
        {
          "output_type": "stream",
          "name": "stdout",
          "text": [
            "/content/drive/MyDrive\n"
          ]
        }
      ],
      "source": [
        "cd/content/drive/MyDrive\n"
      ]
    },
    {
      "cell_type": "code",
      "execution_count": null,
      "metadata": {
        "colab": {
          "base_uri": "https://localhost:8080/"
        },
        "id": "8-MqhrBLNGej",
        "outputId": "fe48801c-707d-40b1-8876-c46fde91a1bf"
      },
      "outputs": [
        {
          "output_type": "stream",
          "name": "stdout",
          "text": [
            "Archive:  /content/drive/MyDrive/IBM_PROJECT/Flowers-Dataset.zip\n",
            "replace flowers/daisy/100080576_f52e8ee070_n.jpg? [y]es, [n]o, [A]ll, [N]one, [r]ename: "
          ]
        }
      ],
      "source": [
        "!unzip '/content/drive/MyDrive/IBM_PROJECT/Flowers-Dataset.zip'\n"
      ]
    },
    {
      "cell_type": "markdown",
      "source": [],
      "metadata": {
        "id": "X1gDUoIXbU6a"
      }
    },
    {
      "cell_type": "markdown",
      "source": [
        "\n",
        "\n",
        "\n",
        "### 2.   **IMAGE AUGMENTATION**\n",
        "\n"
      ],
      "metadata": {
        "id": "kAM9vqPyG3DF"
      }
    },
    {
      "cell_type": "code",
      "execution_count": null,
      "metadata": {
        "id": "CJwKIBkkP50C"
      },
      "outputs": [],
      "source": [
        "from tensorflow.keras.preprocessing.image import ImageDataGenerator\n"
      ]
    },
    {
      "cell_type": "code",
      "execution_count": null,
      "metadata": {
        "id": "4jS5yTZuYbkf"
      },
      "outputs": [],
      "source": [
        "train_datagen=ImageDataGenerator(rescale=1./255,zoom_range=0.2,horizontal_flip=True,vertical_flip=False)\n"
      ]
    },
    {
      "cell_type": "code",
      "execution_count": null,
      "metadata": {
        "id": "TkzOo2HwYdb9"
      },
      "outputs": [],
      "source": [
        "test_datagen=ImageDataGenerator(rescale=1./255)\n"
      ]
    },
    {
      "cell_type": "code",
      "execution_count": null,
      "metadata": {
        "colab": {
          "base_uri": "https://localhost:8080/"
        },
        "id": "zR82ugEBYh_M",
        "outputId": "4fdee9df-26be-4d02-cbe6-21051a269f12"
      },
      "outputs": [
        {
          "output_type": "stream",
          "name": "stdout",
          "text": [
            "Looking in indexes: https://pypi.org/simple, https://us-python.pkg.dev/colab-wheels/public/simple/\n",
            "Collecting split-folders\n",
            "  Downloading split_folders-0.5.1-py3-none-any.whl (8.4 kB)\n",
            "Installing collected packages: split-folders\n",
            "Successfully installed split-folders-0.5.1\n"
          ]
        }
      ],
      "source": [
        "pip install split-folders\n"
      ]
    },
    {
      "cell_type": "code",
      "execution_count": null,
      "metadata": {
        "id": "Zn2Wh8ENYkyC"
      },
      "outputs": [],
      "source": [
        "import splitfolders\n"
      ]
    },
    {
      "cell_type": "code",
      "execution_count": null,
      "metadata": {
        "id": "BOhM3PqFYrtY"
      },
      "outputs": [],
      "source": [
        "input_folder='/content/drive/MyDrive/flowers'\n"
      ]
    },
    {
      "cell_type": "code",
      "execution_count": null,
      "metadata": {
        "colab": {
          "base_uri": "https://localhost:8080/"
        },
        "id": "uvUUKTfHY3P_",
        "outputId": "82da4080-90aa-4749-fbba-cd2ad5605129"
      },
      "outputs": [
        {
          "output_type": "stream",
          "name": "stderr",
          "text": [
            "\n",
            "Copying files: 0 files [00:00, ? files/s]\u001b[A\n",
            "Copying files: 1 files [00:00,  8.66 files/s]\u001b[A\n",
            "Copying files: 9 files [00:00, 16.62 files/s]\u001b[A\n",
            "Copying files: 23 files [00:00, 41.67 files/s]\u001b[A\n",
            "Copying files: 36 files [00:00, 61.05 files/s]\u001b[A\n",
            "Copying files: 48 files [00:00, 74.60 files/s]\u001b[A\n",
            "Copying files: 60 files [00:00, 85.29 files/s]\u001b[A\n",
            "Copying files: 72 files [00:01, 93.39 files/s]\u001b[A\n",
            "Copying files: 85 files [00:01, 101.10 files/s]\u001b[A\n",
            "Copying files: 100 files [00:01, 107.81 files/s]\u001b[A\n",
            "Copying files: 115 files [00:01, 114.39 files/s]\u001b[A\n",
            "Copying files: 130 files [00:01, 117.66 files/s]\u001b[A\n",
            "Copying files: 144 files [00:01, 123.52 files/s]\u001b[A\n",
            "Copying files: 157 files [00:01, 123.71 files/s]\u001b[A\n",
            "Copying files: 170 files [00:01, 122.93 files/s]\u001b[A\n",
            "Copying files: 183 files [00:01, 122.77 files/s]\u001b[A\n",
            "Copying files: 196 files [00:02, 120.56 files/s]\u001b[A\n",
            "Copying files: 209 files [00:02, 120.10 files/s]\u001b[A\n",
            "Copying files: 222 files [00:02, 120.53 files/s]\u001b[A\n",
            "Copying files: 236 files [00:02, 121.31 files/s]\u001b[A\n",
            "Copying files: 251 files [00:02, 121.86 files/s]\u001b[A\n",
            "Copying files: 264 files [00:02, 123.00 files/s]\u001b[A\n",
            "Copying files: 277 files [00:02, 116.82 files/s]\u001b[A\n",
            "Copying files: 289 files [00:02, 114.32 files/s]\u001b[A\n",
            "Copying files: 301 files [00:02, 114.04 files/s]\u001b[A\n",
            "Copying files: 313 files [00:03, 114.93 files/s]\u001b[A\n",
            "Copying files: 325 files [00:03, 116.18 files/s]\u001b[A\n",
            "Copying files: 340 files [00:03, 118.82 files/s]\u001b[A\n",
            "Copying files: 355 files [00:03, 118.43 files/s]\u001b[A\n",
            "Copying files: 371 files [00:03, 122.29 files/s]\u001b[A\n",
            "Copying files: 385 files [00:03, 121.05 files/s]\u001b[A\n",
            "Copying files: 400 files [00:03, 122.69 files/s]\u001b[A\n",
            "Copying files: 415 files [00:03, 123.56 files/s]\u001b[A\n",
            "Copying files: 430 files [00:04, 122.09 files/s]\u001b[A\n",
            "Copying files: 445 files [00:04, 122.40 files/s]\u001b[A\n",
            "Copying files: 460 files [00:04, 122.17 files/s]\u001b[A\n",
            "Copying files: 473 files [00:04, 123.91 files/s]\u001b[A\n",
            "Copying files: 486 files [00:04, 123.82 files/s]\u001b[A\n",
            "Copying files: 499 files [00:04, 120.69 files/s]\u001b[A\n",
            "Copying files: 512 files [00:04, 119.23 files/s]\u001b[A\n",
            "Copying files: 524 files [00:04, 115.54 files/s]\u001b[A\n",
            "Copying files: 537 files [00:04, 118.34 files/s]\u001b[A\n",
            "Copying files: 549 files [00:05, 118.47 files/s]\u001b[A\n",
            "Copying files: 563 files [00:05, 122.94 files/s]\u001b[A\n",
            "Copying files: 576 files [00:05, 121.64 files/s]\u001b[A\n",
            "Copying files: 589 files [00:05, 117.53 files/s]\u001b[A\n",
            "Copying files: 601 files [00:05, 117.87 files/s]\u001b[A\n",
            "Copying files: 614 files [00:05, 119.41 files/s]\u001b[A\n",
            "Copying files: 626 files [00:05, 114.41 files/s]\u001b[A\n",
            "Copying files: 639 files [00:05, 116.83 files/s]\u001b[A\n",
            "Copying files: 652 files [00:05, 119.35 files/s]\u001b[A\n",
            "Copying files: 667 files [00:06, 119.15 files/s]\u001b[A\n",
            "Copying files: 682 files [00:06, 118.41 files/s]\u001b[A\n",
            "Copying files: 697 files [00:06, 120.20 files/s]\u001b[A\n",
            "Copying files: 712 files [00:06, 120.58 files/s]\u001b[A\n",
            "Copying files: 726 files [00:06, 121.13 files/s]\u001b[A\n",
            "Copying files: 741 files [00:06, 121.45 files/s]\u001b[A\n",
            "Copying files: 755 files [00:06, 126.03 files/s]\u001b[A\n",
            "Copying files: 768 files [00:07, 81.77 files/s] \u001b[A\n",
            "Copying files: 779 files [00:07, 40.51 files/s]\u001b[A\n",
            "Copying files: 791 files [00:07, 49.50 files/s]\u001b[A\n",
            "Copying files: 802 files [00:07, 57.77 files/s]\u001b[A\n",
            "Copying files: 815 files [00:08, 68.62 files/s]\u001b[A\n",
            "Copying files: 830 files [00:08, 83.84 files/s]\u001b[A\n",
            "Copying files: 842 files [00:08, 90.21 files/s]\u001b[A\n",
            "Copying files: 854 files [00:08, 95.81 files/s]\u001b[A\n",
            "Copying files: 866 files [00:08, 100.53 files/s]\u001b[A\n",
            "Copying files: 878 files [00:08, 104.84 files/s]\u001b[A\n",
            "Copying files: 890 files [00:08, 103.00 files/s]\u001b[A\n",
            "Copying files: 903 files [00:08, 104.96 files/s]\u001b[A\n",
            "Copying files: 917 files [00:08, 114.02 files/s]\u001b[A\n",
            "Copying files: 929 files [00:09, 113.72 files/s]\u001b[A\n",
            "Copying files: 941 files [00:09, 113.64 files/s]\u001b[A\n",
            "Copying files: 953 files [00:09, 112.33 files/s]\u001b[A\n",
            "Copying files: 965 files [00:09, 112.51 files/s]\u001b[A\n",
            "Copying files: 977 files [00:09, 112.48 files/s]\u001b[A\n",
            "Copying files: 990 files [00:09, 112.16 files/s]\u001b[A\n",
            "Copying files: 1005 files [00:09, 114.93 files/s]\u001b[A\n",
            "Copying files: 1018 files [00:09, 117.19 files/s]\u001b[A\n",
            "Copying files: 1030 files [00:09, 116.90 files/s]\u001b[A\n",
            "Copying files: 1042 files [00:09, 116.96 files/s]\u001b[A\n",
            "Copying files: 1054 files [00:10, 116.22 files/s]\u001b[A\n",
            "Copying files: 1066 files [00:10, 114.97 files/s]\u001b[A\n",
            "Copying files: 1079 files [00:10, 117.33 files/s]\u001b[A\n",
            "Copying files: 1092 files [00:10, 117.73 files/s]\u001b[A\n",
            "Copying files: 1107 files [00:10, 117.27 files/s]\u001b[A\n",
            "Copying files: 1121 files [00:10, 117.63 files/s]\u001b[A\n",
            "Copying files: 1135 files [00:10, 115.40 files/s]\u001b[A\n",
            "Copying files: 1149 files [00:10, 113.31 files/s]\u001b[A\n",
            "Copying files: 1164 files [00:11, 116.41 files/s]\u001b[A\n",
            "Copying files: 1178 files [00:11, 121.73 files/s]\u001b[A\n",
            "Copying files: 1191 files [00:11, 119.06 files/s]\u001b[A\n",
            "Copying files: 1203 files [00:11, 117.40 files/s]\u001b[A\n",
            "Copying files: 1215 files [00:11, 116.59 files/s]\u001b[A\n",
            "Copying files: 1227 files [00:11, 116.17 files/s]\u001b[A\n",
            "Copying files: 1239 files [00:11, 115.09 files/s]\u001b[A\n",
            "Copying files: 1252 files [00:11, 113.91 files/s]\u001b[A\n",
            "Copying files: 1267 files [00:11, 117.43 files/s]\u001b[A\n",
            "Copying files: 1281 files [00:12, 117.23 files/s]\u001b[A\n",
            "Copying files: 1295 files [00:12, 116.68 files/s]\u001b[A\n",
            "Copying files: 1309 files [00:12, 122.63 files/s]\u001b[A\n",
            "Copying files: 1322 files [00:12, 119.17 files/s]\u001b[A\n",
            "Copying files: 1334 files [00:12, 118.40 files/s]\u001b[A\n",
            "Copying files: 1346 files [00:12, 117.04 files/s]\u001b[A\n",
            "Copying files: 1358 files [00:12, 113.81 files/s]\u001b[A\n",
            "Copying files: 1370 files [00:12, 112.39 files/s]\u001b[A\n",
            "Copying files: 1383 files [00:12, 113.88 files/s]\u001b[A\n",
            "Copying files: 1398 files [00:13, 115.99 files/s]\u001b[A\n",
            "Copying files: 1412 files [00:13, 116.47 files/s]\u001b[A\n",
            "Copying files: 1426 files [00:13, 117.31 files/s]\u001b[A\n",
            "Copying files: 1440 files [00:13, 121.69 files/s]\u001b[A\n",
            "Copying files: 1453 files [00:13, 119.99 files/s]\u001b[A\n",
            "Copying files: 1466 files [00:13, 118.92 files/s]\u001b[A\n",
            "Copying files: 1478 files [00:13, 115.10 files/s]\u001b[A\n",
            "Copying files: 1490 files [00:13, 110.41 files/s]\u001b[A\n",
            "Copying files: 1502 files [00:13, 109.46 files/s]\u001b[A\n",
            "Copying files: 1514 files [00:14, 110.25 files/s]\u001b[A\n",
            "Copying files: 1528 files [00:14, 117.72 files/s]\u001b[A\n",
            "Copying files: 1540 files [00:14, 117.81 files/s]\u001b[A\n",
            "Copying files: 1552 files [00:14, 111.37 files/s]\u001b[A\n",
            "Copying files: 1564 files [00:14, 111.17 files/s]\u001b[A\n",
            "Copying files: 1576 files [00:14, 108.96 files/s]\u001b[A\n",
            "Copying files: 1587 files [00:14, 108.87 files/s]\u001b[A\n",
            "Copying files: 1601 files [00:14, 111.90 files/s]\u001b[A\n",
            "Copying files: 1614 files [00:14, 116.69 files/s]\u001b[A\n",
            "Copying files: 1626 files [00:15, 114.18 files/s]\u001b[A\n",
            "Copying files: 1638 files [00:15, 109.83 files/s]\u001b[A\n",
            "Copying files: 1650 files [00:15, 102.71 files/s]\u001b[A\n",
            "Copying files: 1661 files [00:15, 101.75 files/s]\u001b[A\n",
            "Copying files: 1673 files [00:15, 106.29 files/s]\u001b[A\n",
            "Copying files: 1685 files [00:15, 109.02 files/s]\u001b[A\n",
            "Copying files: 1696 files [00:15, 108.30 files/s]\u001b[A\n",
            "Copying files: 1708 files [00:15, 111.55 files/s]\u001b[A\n",
            "Copying files: 1720 files [00:15, 112.45 files/s]\u001b[A\n",
            "Copying files: 1732 files [00:16, 111.52 files/s]\u001b[A\n",
            "Copying files: 1745 files [00:16, 115.04 files/s]\u001b[A\n",
            "Copying files: 1757 files [00:16, 112.90 files/s]\u001b[A\n",
            "Copying files: 1769 files [00:16, 108.09 files/s]\u001b[A\n",
            "Copying files: 1780 files [00:16, 105.69 files/s]\u001b[A\n",
            "Copying files: 1791 files [00:16, 101.67 files/s]\u001b[A\n",
            "Copying files: 1804 files [00:16, 104.55 files/s]\u001b[A\n",
            "Copying files: 1817 files [00:16, 89.53 files/s] \u001b[A\n",
            "Copying files: 1827 files [00:18, 18.32 files/s]\u001b[A\n",
            "Copying files: 1834 files [00:20, 10.89 files/s]\u001b[A\n",
            "Copying files: 1839 files [00:20, 10.41 files/s]\u001b[A\n",
            "Copying files: 1843 files [00:21,  9.69 files/s]\u001b[A\n",
            "Copying files: 1852 files [00:22, 10.70 files/s]\u001b[A\n",
            "Copying files: 1860 files [00:23,  9.71 files/s]\u001b[A\n",
            "Copying files: 1862 files [00:23,  8.21 files/s]\u001b[A\n",
            "Copying files: 1865 files [00:24,  7.29 files/s]\u001b[A\n",
            "Copying files: 1868 files [00:25,  5.70 files/s]\u001b[A\n",
            "Copying files: 1873 files [00:25,  6.34 files/s]\u001b[A\n",
            "Copying files: 1885 files [00:26, 12.53 files/s]\u001b[A\n",
            "Copying files: 1889 files [00:27,  8.18 files/s]\u001b[A\n",
            "Copying files: 1892 files [00:28,  6.05 files/s]\u001b[A\n",
            "Copying files: 1895 files [00:29,  4.79 files/s]\u001b[A\n",
            "Copying files: 1900 files [00:30,  5.13 files/s]\u001b[A\n",
            "Copying files: 1910 files [00:30,  9.37 files/s]\u001b[A\n",
            "Copying files: 1914 files [00:31,  6.73 files/s]\u001b[A\n",
            "Copying files: 1917 files [00:32,  6.26 files/s]\u001b[A\n",
            "Copying files: 1924 files [00:32,  7.54 files/s]\u001b[A\n",
            "Copying files: 1926 files [00:34,  5.19 files/s]\u001b[A\n",
            "Copying files: 1936 files [00:34,  9.70 files/s]\u001b[A\n",
            "Copying files: 1940 files [00:34,  8.87 files/s]\u001b[A\n",
            "Copying files: 1944 files [00:35,  8.34 files/s]\u001b[A\n",
            "Copying files: 1947 files [00:36,  6.68 files/s]\u001b[A\n",
            "Copying files: 1951 files [00:36,  6.65 files/s]\u001b[A\n",
            "Copying files: 1953 files [00:37,  5.76 files/s]\u001b[A\n",
            "Copying files: 1962 files [00:37,  8.31 files/s]\u001b[A\n",
            "Copying files: 1964 files [00:39,  4.59 files/s]\u001b[A\n",
            "Copying files: 1969 files [00:40,  5.45 files/s]\u001b[A\n",
            "Copying files: 1973 files [00:41,  4.84 files/s]\u001b[A\n",
            "Copying files: 1980 files [00:41,  6.32 files/s]\u001b[A\n",
            "Copying files: 1985 files [00:42,  5.73 files/s]\u001b[A\n",
            "Copying files: 1988 files [00:43,  5.51 files/s]\u001b[A\n",
            "Copying files: 1999 files [00:44,  7.49 files/s]\u001b[A\n",
            "Copying files: 2007 files [00:45,  8.71 files/s]\u001b[A\n",
            "Copying files: 2010 files [00:45,  7.99 files/s]\u001b[A\n",
            "Copying files: 2013 files [00:46,  5.98 files/s]\u001b[A\n",
            "Copying files: 2017 files [00:47,  6.23 files/s]\u001b[A\n",
            "Copying files: 2027 files [00:47, 11.31 files/s]\u001b[A\n",
            "Copying files: 2033 files [00:48, 10.71 files/s]\u001b[A\n",
            "Copying files: 2039 files [00:48, 10.42 files/s]\u001b[A\n",
            "Copying files: 2042 files [00:49,  8.92 files/s]\u001b[A\n",
            "Copying files: 2052 files [00:49, 15.07 files/s]\u001b[A\n",
            "Copying files: 2056 files [00:50,  7.26 files/s]\u001b[A\n",
            "Copying files: 2059 files [00:51,  6.84 files/s]\u001b[A\n",
            "Copying files: 2062 files [00:52,  5.04 files/s]\u001b[A\n",
            "Copying files: 2069 files [00:53,  6.58 files/s]\u001b[A\n",
            "Copying files: 2071 files [00:53,  5.87 files/s]\u001b[A\n",
            "Copying files: 2073 files [00:54,  4.81 files/s]\u001b[A\n",
            "Copying files: 2074 files [00:55,  3.99 files/s]\u001b[A\n",
            "Copying files: 2075 files [00:55,  3.43 files/s]\u001b[A\n",
            "Copying files: 2077 files [00:56,  3.48 files/s]\u001b[A\n",
            "Copying files: 2088 files [00:57,  7.70 files/s]\u001b[A\n",
            "Copying files: 2089 files [00:58,  4.90 files/s]\u001b[A\n",
            "Copying files: 2094 files [00:58,  5.88 files/s]\u001b[A\n",
            "Copying files: 2098 files [00:59,  4.96 files/s]\u001b[A\n",
            "Copying files: 2099 files [01:00,  4.24 files/s]\u001b[A\n",
            "Copying files: 2102 files [01:00,  4.40 files/s]\u001b[A\n",
            "Copying files: 2107 files [01:01,  5.44 files/s]\u001b[A\n",
            "Copying files: 2108 files [01:02,  4.42 files/s]\u001b[A\n",
            "Copying files: 2111 files [01:02,  4.54 files/s]\u001b[A\n",
            "Copying files: 2113 files [01:03,  4.27 files/s]\u001b[A\n",
            "Copying files: 2117 files [01:03,  4.98 files/s]\u001b[A\n",
            "Copying files: 2127 files [01:04,  8.28 files/s]\u001b[A\n",
            "Copying files: 2137 files [01:04, 14.17 files/s]\u001b[A\n",
            "Copying files: 2142 files [01:05, 10.13 files/s]\u001b[A\n",
            "Copying files: 2149 files [01:06, 10.64 files/s]\u001b[A\n",
            "Copying files: 2152 files [01:06,  8.84 files/s]\u001b[A\n",
            "Copying files: 2154 files [01:07,  6.12 files/s]\u001b[A\n",
            "Copying files: 2161 files [01:08,  7.59 files/s]\u001b[A\n",
            "Copying files: 2167 files [01:08,  8.28 files/s]\u001b[A\n",
            "Copying files: 2169 files [01:10,  5.55 files/s]\u001b[A\n",
            "Copying files: 2179 files [01:10, 10.40 files/s]\u001b[A\n",
            "Copying files: 2183 files [01:10,  9.23 files/s]\u001b[A\n",
            "Copying files: 2188 files [01:11,  8.93 files/s]\u001b[A\n",
            "Copying files: 2191 files [01:11,  7.68 files/s]\u001b[A\n",
            "Copying files: 2194 files [01:12,  6.73 files/s]\u001b[A\n",
            "Copying files: 2197 files [01:13,  6.39 files/s]\u001b[A\n",
            "Copying files: 2207 files [01:13, 12.66 files/s]\u001b[A\n",
            "Copying files: 2211 files [01:13, 10.20 files/s]\u001b[A\n",
            "Copying files: 2221 files [01:13, 17.21 files/s]\u001b[A\n",
            "Copying files: 2226 files [01:15,  7.82 files/s]\u001b[A\n",
            "Copying files: 2230 files [01:16,  6.15 files/s]\u001b[A\n",
            "Copying files: 2233 files [01:17,  6.00 files/s]\u001b[A\n",
            "Copying files: 2236 files [01:18,  4.82 files/s]\u001b[A\n",
            "Copying files: 2239 files [01:19,  4.85 files/s]\u001b[A\n",
            "Copying files: 2244 files [01:19,  5.75 files/s]\u001b[A\n",
            "Copying files: 2247 files [01:20,  5.54 files/s]\u001b[A\n",
            "Copying files: 2254 files [01:20,  7.04 files/s]\u001b[A\n",
            "Copying files: 2256 files [01:21,  6.11 files/s]\u001b[A\n",
            "Copying files: 2267 files [01:21, 12.53 files/s]\u001b[A\n",
            "Copying files: 2272 files [01:22, 11.31 files/s]\u001b[A\n",
            "Copying files: 2275 files [01:23,  7.36 files/s]\u001b[A\n",
            "Copying files: 2285 files [01:23,  9.61 files/s]\u001b[A\n",
            "Copying files: 2289 files [01:24,  8.91 files/s]\u001b[A\n",
            "Copying files: 2296 files [01:25,  9.64 files/s]\u001b[A\n",
            "Copying files: 2298 files [01:26,  5.79 files/s]\u001b[A\n",
            "Copying files: 2301 files [01:26,  5.59 files/s]\u001b[A\n",
            "Copying files: 2304 files [01:27,  5.29 files/s]\u001b[A\n",
            "Copying files: 2309 files [01:28,  6.14 files/s]\u001b[A\n",
            "Copying files: 2312 files [01:28,  5.87 files/s]\u001b[A\n",
            "Copying files: 2313 files [01:29,  4.60 files/s]\u001b[A\n",
            "Copying files: 2319 files [01:30,  6.08 files/s]\u001b[A\n",
            "Copying files: 2324 files [01:30,  6.84 files/s]\u001b[A\n",
            "Copying files: 2326 files [01:31,  5.89 files/s]\u001b[A\n",
            "Copying files: 2328 files [01:31,  5.15 files/s]\u001b[A\n",
            "Copying files: 2335 files [01:34,  3.92 files/s]\u001b[A\n",
            "Copying files: 2339 files [01:34,  4.51 files/s]\u001b[A\n",
            "Copying files: 2340 files [01:35,  3.95 files/s]\u001b[A\n",
            "Copying files: 2343 files [01:35,  4.19 files/s]\u001b[A\n",
            "Copying files: 2347 files [01:36,  4.82 files/s]\u001b[A\n",
            "Copying files: 2356 files [01:36,  7.40 files/s]\u001b[A\n",
            "Copying files: 2359 files [01:37,  6.68 files/s]\u001b[A\n",
            "Copying files: 2362 files [01:38,  6.31 files/s]\u001b[A\n",
            "Copying files: 2363 files [01:38,  5.04 files/s]\u001b[A\n",
            "Copying files: 2364 files [01:39,  4.03 files/s]\u001b[A\n",
            "Copying files: 2365 files [01:39,  3.35 files/s]\u001b[A\n",
            "Copying files: 2367 files [01:40,  3.32 files/s]\u001b[A\n",
            "Copying files: 2374 files [01:41,  5.74 files/s]\u001b[A\n",
            "Copying files: 2378 files [01:41,  5.98 files/s]\u001b[A\n",
            "Copying files: 2381 files [01:42,  5.72 files/s]\u001b[A\n",
            "Copying files: 2383 files [01:42,  5.08 files/s]\u001b[A\n",
            "Copying files: 2388 files [01:43,  5.91 files/s]\u001b[A\n",
            "Copying files: 2397 files [01:44,  8.40 files/s]\u001b[A\n",
            "Copying files: 2400 files [01:44,  7.46 files/s]\u001b[A\n",
            "Copying files: 2402 files [01:45,  6.17 files/s]\u001b[A\n",
            "Copying files: 2405 files [01:46,  5.79 files/s]\u001b[A\n",
            "Copying files: 2408 files [01:46,  5.61 files/s]\u001b[A\n",
            "Copying files: 2413 files [01:47,  6.02 files/s]\u001b[A\n",
            "Copying files: 2414 files [01:48,  4.72 files/s]\u001b[A\n",
            "Copying files: 2428 files [01:48, 13.21 files/s]\u001b[A\n",
            "Copying files: 2433 files [01:49,  8.58 files/s]\u001b[A\n",
            "Copying files: 2437 files [01:49,  8.15 files/s]\u001b[A\n",
            "Copying files: 2441 files [01:50,  7.66 files/s]\u001b[A\n",
            "Copying files: 2443 files [01:51,  6.51 files/s]\u001b[A\n",
            "Copying files: 2445 files [01:51,  5.71 files/s]\u001b[A\n",
            "Copying files: 2447 files [01:52,  3.93 files/s]\u001b[A\n",
            "Copying files: 2448 files [01:53,  3.44 files/s]\u001b[A\n",
            "Copying files: 2449 files [01:53,  3.03 files/s]\u001b[A\n",
            "Copying files: 2450 files [01:54,  2.70 files/s]\u001b[A\n",
            "Copying files: 2451 files [01:55,  2.42 files/s]\u001b[A\n",
            "Copying files: 2452 files [01:55,  2.25 files/s]\u001b[A\n",
            "Copying files: 2453 files [01:56,  2.12 files/s]\u001b[A\n",
            "Copying files: 2454 files [01:57,  1.58 files/s]\u001b[A\n",
            "Copying files: 2455 files [01:57,  1.63 files/s]\u001b[A\n",
            "Copying files: 2456 files [01:58,  1.62 files/s]\u001b[A\n",
            "Copying files: 2457 files [01:58,  1.64 files/s]\u001b[A\n",
            "Copying files: 2458 files [01:59,  1.51 files/s]\u001b[A\n",
            "Copying files: 2459 files [02:00,  1.55 files/s]\u001b[A\n",
            "Copying files: 2460 files [02:00,  1.60 files/s]\u001b[A\n",
            "Copying files: 2461 files [02:01,  1.64 files/s]\u001b[A\n",
            "Copying files: 2462 files [02:02,  1.68 files/s]\u001b[A\n",
            "Copying files: 2463 files [02:02,  1.71 files/s]\u001b[A\n",
            "Copying files: 2464 files [02:03,  1.74 files/s]\u001b[A\n",
            "Copying files: 2465 files [02:03,  1.76 files/s]\u001b[A\n",
            "Copying files: 2466 files [02:04,  1.78 files/s]\u001b[A\n",
            "Copying files: 2467 files [02:04,  1.75 files/s]\u001b[A\n",
            "Copying files: 2468 files [02:05,  1.73 files/s]\u001b[A\n",
            "Copying files: 2469 files [02:06,  1.71 files/s]\u001b[A\n",
            "Copying files: 2470 files [02:06,  1.70 files/s]\u001b[A\n",
            "Copying files: 2471 files [02:07,  1.69 files/s]\u001b[A\n",
            "Copying files: 2472 files [02:08,  1.20 files/s]\u001b[A\n",
            "Copying files: 2473 files [02:09,  1.31 files/s]\u001b[A\n",
            "Copying files: 2474 files [02:09,  1.41 files/s]\u001b[A\n",
            "Copying files: 2475 files [02:10,  1.51 files/s]\u001b[A\n",
            "Copying files: 2476 files [02:10,  1.58 files/s]\u001b[A\n",
            "Copying files: 2477 files [02:11,  1.62 files/s]\u001b[A\n",
            "Copying files: 2478 files [02:12,  1.68 files/s]\u001b[A\n",
            "Copying files: 2479 files [02:12,  1.68 files/s]\u001b[A\n",
            "Copying files: 2480 files [02:13,  1.72 files/s]\u001b[A\n",
            "Copying files: 2481 files [02:13,  1.72 files/s]\u001b[A\n",
            "Copying files: 2482 files [02:14,  1.73 files/s]\u001b[A\n",
            "Copying files: 2483 files [02:14,  1.73 files/s]\u001b[A\n",
            "Copying files: 2484 files [02:15,  1.76 files/s]\u001b[A\n",
            "Copying files: 2485 files [02:16,  1.73 files/s]\u001b[A\n",
            "Copying files: 2486 files [02:16,  1.68 files/s]\u001b[A\n",
            "Copying files: 2487 files [02:17,  1.72 files/s]\u001b[A\n",
            "Copying files: 2488 files [02:17,  1.72 files/s]\u001b[A\n",
            "Copying files: 2489 files [02:18,  1.75 files/s]\u001b[A\n",
            "Copying files: 2490 files [02:19,  1.74 files/s]\u001b[A\n",
            "Copying files: 2491 files [02:19,  1.72 files/s]\u001b[A\n",
            "Copying files: 2492 files [02:20,  1.72 files/s]\u001b[A\n",
            "Copying files: 2493 files [02:20,  1.74 files/s]\u001b[A\n",
            "Copying files: 2494 files [02:21,  1.74 files/s]\u001b[A\n",
            "Copying files: 2495 files [02:21,  1.74 files/s]\u001b[A\n",
            "Copying files: 2496 files [02:22,  1.72 files/s]\u001b[A\n",
            "Copying files: 2497 files [02:23,  1.77 files/s]\u001b[A\n",
            "Copying files: 2498 files [02:23,  1.78 files/s]\u001b[A\n",
            "Copying files: 2499 files [02:24,  1.73 files/s]\u001b[A\n",
            "Copying files: 2500 files [02:24,  1.74 files/s]\u001b[A\n",
            "Copying files: 2501 files [02:25,  1.73 files/s]\u001b[A\n",
            "Copying files: 2502 files [02:25,  1.74 files/s]\u001b[A\n",
            "Copying files: 2503 files [02:26,  1.75 files/s]\u001b[A\n",
            "Copying files: 2504 files [02:27,  1.70 files/s]\u001b[A\n",
            "Copying files: 2505 files [02:27,  1.72 files/s]\u001b[A\n",
            "Copying files: 2506 files [02:28,  1.71 files/s]\u001b[A\n",
            "Copying files: 2507 files [02:28,  1.70 files/s]\u001b[A\n",
            "Copying files: 2508 files [02:29,  1.72 files/s]\u001b[A\n",
            "Copying files: 2509 files [02:29,  1.74 files/s]\u001b[A\n",
            "Copying files: 2510 files [02:30,  1.76 files/s]\u001b[A\n",
            "Copying files: 2511 files [02:31,  1.67 files/s]\u001b[A\n",
            "Copying files: 2512 files [02:31,  1.69 files/s]\u001b[A\n",
            "Copying files: 2513 files [02:32,  1.69 files/s]\u001b[A\n",
            "Copying files: 2514 files [02:32,  1.72 files/s]\u001b[A\n",
            "Copying files: 2515 files [02:33,  1.72 files/s]\u001b[A\n",
            "Copying files: 2516 files [02:34,  1.71 files/s]\u001b[A\n",
            "Copying files: 2517 files [02:34,  1.51 files/s]\u001b[A\n",
            "Copying files: 2518 files [02:35,  1.58 files/s]\u001b[A\n",
            "Copying files: 2519 files [02:36,  1.65 files/s]\u001b[A\n",
            "Copying files: 2520 files [02:36,  1.68 files/s]\u001b[A\n",
            "Copying files: 2521 files [02:37,  1.71 files/s]\u001b[A\n",
            "Copying files: 2522 files [02:37,  1.65 files/s]\u001b[A\n",
            "Copying files: 2523 files [02:38,  1.70 files/s]\u001b[A\n",
            "Copying files: 2524 files [02:38,  1.70 files/s]\u001b[A\n",
            "Copying files: 2525 files [02:39,  1.74 files/s]\u001b[A\n",
            "Copying files: 2526 files [02:40,  1.76 files/s]\u001b[A\n",
            "Copying files: 2527 files [02:41,  1.22 files/s]\u001b[A\n",
            "Copying files: 2528 files [02:42,  1.33 files/s]\u001b[A\n",
            "Copying files: 2529 files [02:42,  1.45 files/s]\u001b[A\n",
            "Copying files: 2530 files [02:43,  1.51 files/s]\u001b[A\n",
            "Copying files: 2531 files [02:43,  1.57 files/s]\u001b[A\n",
            "Copying files: 2532 files [02:44,  1.61 files/s]\u001b[A\n",
            "Copying files: 2533 files [02:44,  1.65 files/s]\u001b[A\n",
            "Copying files: 2534 files [02:45,  1.48 files/s]\u001b[A\n",
            "Copying files: 2535 files [02:46,  1.55 files/s]\u001b[A\n",
            "Copying files: 2536 files [02:46,  1.61 files/s]\u001b[A\n",
            "Copying files: 2537 files [02:47,  1.65 files/s]\u001b[A\n",
            "Copying files: 2538 files [02:48,  1.68 files/s]\u001b[A\n",
            "Copying files: 2539 files [02:48,  1.72 files/s]\u001b[A\n",
            "Copying files: 2540 files [02:49,  1.71 files/s]\u001b[A\n",
            "Copying files: 2541 files [02:49,  1.74 files/s]\u001b[A\n",
            "Copying files: 2542 files [02:50,  1.71 files/s]\u001b[A\n",
            "Copying files: 2543 files [02:50,  1.72 files/s]\u001b[A\n",
            "Copying files: 2544 files [02:51,  1.72 files/s]\u001b[A\n",
            "Copying files: 2545 files [02:52,  1.71 files/s]\u001b[A\n",
            "Copying files: 2546 files [02:52,  1.74 files/s]\u001b[A\n",
            "Copying files: 2547 files [02:53,  1.72 files/s]\u001b[A\n",
            "Copying files: 2548 files [02:53,  1.70 files/s]\u001b[A\n",
            "Copying files: 2549 files [02:54,  1.71 files/s]\u001b[A\n",
            "Copying files: 2550 files [02:55,  1.73 files/s]\u001b[A\n",
            "Copying files: 2551 files [02:55,  1.74 files/s]\u001b[A\n",
            "Copying files: 2552 files [02:56,  1.73 files/s]\u001b[A\n",
            "Copying files: 2553 files [02:56,  1.74 files/s]\u001b[A\n",
            "Copying files: 2554 files [02:57,  1.71 files/s]\u001b[A\n",
            "Copying files: 2555 files [02:57,  1.71 files/s]\u001b[A\n",
            "Copying files: 2556 files [02:58,  1.75 files/s]\u001b[A\n",
            "Copying files: 2557 files [02:59,  1.65 files/s]\u001b[A\n",
            "Copying files: 2558 files [02:59,  1.69 files/s]\u001b[A\n",
            "Copying files: 2559 files [03:00,  1.64 files/s]\u001b[A\n",
            "Copying files: 2560 files [03:00,  1.67 files/s]\u001b[A\n",
            "Copying files: 2561 files [03:01,  1.63 files/s]\u001b[A\n",
            "Copying files: 2562 files [03:02,  1.67 files/s]\u001b[A\n",
            "Copying files: 2563 files [03:03,  1.36 files/s]\u001b[A\n",
            "Copying files: 2564 files [03:03,  1.44 files/s]\u001b[A\n",
            "Copying files: 2565 files [03:04,  1.52 files/s]\u001b[A\n",
            "Copying files: 2566 files [03:04,  1.60 files/s]\u001b[A\n",
            "Copying files: 2567 files [03:05,  1.62 files/s]\u001b[A\n",
            "Copying files: 2568 files [03:06,  1.68 files/s]\u001b[A\n",
            "Copying files: 2569 files [03:06,  1.73 files/s]\u001b[A\n",
            "Copying files: 2570 files [03:07,  1.76 files/s]\u001b[A\n",
            "Copying files: 2571 files [03:07,  1.77 files/s]\u001b[A\n",
            "Copying files: 2572 files [03:08,  1.78 files/s]\u001b[A\n",
            "Copying files: 2573 files [03:08,  1.75 files/s]\u001b[A\n",
            "Copying files: 2574 files [03:09,  1.73 files/s]\u001b[A\n",
            "Copying files: 2575 files [03:10,  1.73 files/s]\u001b[A\n",
            "Copying files: 2576 files [03:10,  1.75 files/s]\u001b[A\n",
            "Copying files: 2577 files [03:11,  1.74 files/s]\u001b[A\n",
            "Copying files: 2578 files [03:11,  1.74 files/s]\u001b[A\n",
            "Copying files: 2579 files [03:12,  1.74 files/s]\u001b[A\n",
            "Copying files: 2580 files [03:12,  1.73 files/s]\u001b[A\n",
            "Copying files: 2581 files [03:13,  1.73 files/s]\u001b[A\n",
            "Copying files: 2582 files [03:14,  1.72 files/s]\u001b[A\n",
            "Copying files: 2583 files [03:14,  1.71 files/s]\u001b[A\n",
            "Copying files: 2584 files [03:15,  1.68 files/s]\u001b[A\n",
            "Copying files: 2585 files [03:15,  1.63 files/s]\u001b[A\n",
            "Copying files: 2586 files [03:16,  1.65 files/s]\u001b[A\n",
            "Copying files: 2587 files [03:17,  1.66 files/s]\u001b[A\n",
            "Copying files: 2588 files [03:17,  1.69 files/s]\u001b[A\n",
            "Copying files: 2589 files [03:18,  1.68 files/s]\u001b[A\n",
            "Copying files: 2590 files [03:18,  1.71 files/s]\u001b[A\n",
            "Copying files: 2591 files [03:19,  1.70 files/s]\u001b[A\n",
            "Copying files: 2592 files [03:20,  1.70 files/s]\u001b[A\n",
            "Copying files: 2593 files [03:20,  1.72 files/s]\u001b[A\n",
            "Copying files: 2594 files [03:21,  1.70 files/s]\u001b[A\n",
            "Copying files: 2595 files [03:21,  1.69 files/s]\u001b[A\n",
            "Copying files: 2596 files [03:22,  1.71 files/s]\u001b[A\n",
            "Copying files: 2597 files [03:22,  1.73 files/s]\u001b[A\n",
            "Copying files: 2598 files [03:23,  1.74 files/s]\u001b[A\n",
            "Copying files: 2599 files [03:24,  1.70 files/s]\u001b[A\n",
            "Copying files: 2600 files [03:24,  1.73 files/s]\u001b[A\n",
            "Copying files: 2601 files [03:25,  1.60 files/s]\u001b[A\n",
            "Copying files: 2602 files [03:25,  1.65 files/s]\u001b[A\n",
            "Copying files: 2603 files [03:26,  1.71 files/s]\u001b[A\n",
            "Copying files: 2604 files [03:27,  1.72 files/s]\u001b[A\n",
            "Copying files: 2605 files [03:28,  1.41 files/s]\u001b[A\n",
            "Copying files: 2606 files [03:28,  1.49 files/s]\u001b[A\n",
            "Copying files: 2607 files [03:29,  1.58 files/s]\u001b[A\n",
            "Copying files: 2608 files [03:29,  1.63 files/s]\u001b[A\n",
            "Copying files: 2609 files [03:34,  1.71s/ files]\u001b[A\n",
            "Copying files: 2612 files [03:35,  1.07s/ files]\u001b[A\n",
            "Copying files: 2613 files [03:36,  1.05 files/s]\u001b[A\n",
            "Copying files: 2624 files [03:36,  4.37 files/s]\u001b[A\n",
            "Copying files: 2631 files [03:38,  4.37 files/s]\u001b[A\n",
            "Copying files: 2634 files [03:38,  4.54 files/s]\u001b[A\n",
            "Copying files: 2636 files [03:38,  4.91 files/s]\u001b[A\n",
            "Copying files: 2638 files [03:39,  4.22 files/s]\u001b[A\n",
            "Copying files: 2644 files [03:40,  5.28 files/s]\u001b[A\n",
            "Copying files: 2653 files [03:41,  6.93 files/s]\u001b[A\n",
            "Copying files: 2658 files [03:41,  7.34 files/s]\u001b[A\n",
            "Copying files: 2661 files [03:42,  6.81 files/s]\u001b[A\n",
            "Copying files: 2667 files [03:42,  7.60 files/s]\u001b[A\n",
            "Copying files: 2668 files [03:43,  6.03 files/s]\u001b[A\n",
            "Copying files: 2669 files [03:44,  4.79 files/s]\u001b[A\n",
            "Copying files: 2678 files [03:44,  7.72 files/s]\u001b[A\n",
            "Copying files: 2679 files [03:46,  4.00 files/s]\u001b[A\n",
            "Copying files: 2683 files [03:46,  4.63 files/s]\u001b[A\n",
            "Copying files: 2687 files [03:47,  5.04 files/s]\u001b[A\n",
            "Copying files: 2691 files [03:48,  5.46 files/s]\u001b[A\n",
            "Copying files: 2692 files [03:49,  3.30 files/s]\u001b[A\n",
            "Copying files: 2701 files [03:50,  5.74 files/s]\u001b[A\n",
            "Copying files: 2702 files [03:50,  4.87 files/s]\u001b[A\n",
            "Copying files: 2708 files [03:51,  6.09 files/s]\u001b[A\n",
            "Copying files: 2712 files [03:52,  6.26 files/s]\u001b[A\n",
            "Copying files: 2717 files [03:53,  5.74 files/s]\u001b[A\n",
            "Copying files: 2727 files [03:53,  8.20 files/s]\u001b[A\n",
            "Copying files: 2733 files [03:54,  8.82 files/s]\u001b[A\n",
            "Copying files: 2739 files [03:55,  7.42 files/s]\u001b[A\n",
            "Copying files: 2750 files [03:55, 10.01 files/s]\u001b[A\n",
            "Copying files: 2753 files [03:56,  8.81 files/s]\u001b[A\n",
            "Copying files: 2754 files [03:57,  6.38 files/s]\u001b[A\n",
            "Copying files: 2756 files [03:57,  5.63 files/s]\u001b[A\n",
            "Copying files: 2758 files [03:58,  5.09 files/s]\u001b[A\n",
            "Copying files: 2759 files [03:59,  3.43 files/s]\u001b[A\n",
            "Copying files: 2769 files [03:59,  8.58 files/s]\u001b[A\n",
            "Copying files: 2773 files [04:00,  7.79 files/s]\u001b[A\n",
            "Copying files: 2782 files [04:00, 13.38 files/s]\u001b[A\n",
            "Copying files: 2787 files [04:00, 11.28 files/s]\u001b[A\n",
            "Copying files: 2791 files [04:02,  7.84 files/s]\u001b[A\n",
            "Copying files: 2796 files [04:02,  7.90 files/s]\u001b[A\n",
            "Copying files: 2803 files [04:03,  8.90 files/s]\u001b[A\n",
            "Copying files: 2813 files [04:03, 10.64 files/s]\u001b[A\n",
            "Copying files: 2818 files [04:04,  9.72 files/s]\u001b[A\n",
            "Copying files: 2820 files [04:05,  8.12 files/s]\u001b[A\n",
            "Copying files: 2822 files [04:05,  6.54 files/s]\u001b[A\n",
            "Copying files: 2824 files [04:06,  5.54 files/s]\u001b[A\n",
            "Copying files: 2825 files [04:06,  4.50 files/s]\u001b[A\n",
            "Copying files: 2835 files [04:07,  7.82 files/s]\u001b[A\n",
            "Copying files: 2840 files [04:08,  8.05 files/s]\u001b[A\n",
            "Copying files: 2846 files [04:08,  8.61 files/s]\u001b[A\n",
            "Copying files: 2849 files [04:09,  7.54 files/s]\u001b[A\n",
            "Copying files: 2852 files [04:10,  6.75 files/s]\u001b[A\n",
            "Copying files: 2857 files [04:10,  7.24 files/s]\u001b[A\n",
            "Copying files: 2865 files [04:11,  9.01 files/s]\u001b[A\n",
            "Copying files: 2866 files [04:11,  7.03 files/s]\u001b[A\n",
            "Copying files: 2867 files [04:12,  4.40 files/s]\u001b[A\n",
            "Copying files: 2868 files [04:13,  3.71 files/s]\u001b[A\n",
            "Copying files: 2872 files [04:14,  4.47 files/s]\u001b[A\n",
            "Copying files: 2874 files [04:14,  4.29 files/s]\u001b[A\n",
            "Copying files: 2875 files [04:15,  3.56 files/s]\u001b[A\n",
            "Copying files: 2883 files [04:15,  8.57 files/s]\u001b[A\n",
            "Copying files: 2886 files [04:16,  5.43 files/s]\u001b[A\n",
            "Copying files: 2888 files [04:17,  4.89 files/s]\u001b[A\n",
            "Copying files: 2890 files [04:17,  3.98 files/s]\u001b[A\n",
            "Copying files: 2897 files [04:18,  5.91 files/s]\u001b[A\n",
            "Copying files: 2901 files [04:19,  4.85 files/s]\u001b[A\n",
            "Copying files: 2908 files [04:20,  5.79 files/s]\u001b[A\n",
            "Copying files: 2911 files [04:21,  5.64 files/s]\u001b[A\n",
            "Copying files: 2915 files [04:22,  4.95 files/s]\u001b[A\n",
            "Copying files: 2916 files [04:22,  4.18 files/s]\u001b[A\n",
            "Copying files: 2918 files [04:23,  3.97 files/s]\u001b[A\n",
            "Copying files: 2923 files [04:24,  5.18 files/s]\u001b[A\n",
            "Copying files: 2928 files [04:24,  6.04 files/s]\u001b[A\n",
            "Copying files: 2929 files [04:25,  4.96 files/s]\u001b[A\n",
            "Copying files: 2931 files [04:26,  3.67 files/s]\u001b[A\n",
            "Copying files: 2937 files [04:26,  5.36 files/s]\u001b[A\n",
            "Copying files: 2939 files [04:27,  3.85 files/s]\u001b[A\n",
            "Copying files: 2942 files [04:28,  4.14 files/s]\u001b[A\n",
            "Copying files: 2949 files [04:29,  6.06 files/s]\u001b[A\n",
            "Copying files: 2959 files [04:29, 11.40 files/s]\u001b[A\n",
            "Copying files: 2965 files [04:29, 11.15 files/s]\u001b[A\n",
            "Copying files: 2968 files [04:30,  8.92 files/s]\u001b[A\n",
            "Copying files: 2973 files [04:31,  8.79 files/s]\u001b[A\n",
            "Copying files: 2976 files [04:31,  7.63 files/s]\u001b[A\n",
            "Copying files: 2983 files [04:32,  8.77 files/s]\u001b[A\n",
            "Copying files: 2985 files [04:32,  7.20 files/s]\u001b[A\n",
            "Copying files: 2992 files [04:33,  8.43 files/s]\u001b[A\n",
            "Copying files: 2996 files [04:34,  8.03 files/s]\u001b[A\n",
            "Copying files: 2998 files [04:34,  6.49 files/s]\u001b[A\n",
            "Copying files: 3003 files [04:35,  7.04 files/s]\u001b[A\n",
            "Copying files: 3006 files [04:35,  6.32 files/s]\u001b[A\n",
            "Copying files: 3010 files [04:36,  5.26 files/s]\u001b[A\n",
            "Copying files: 3012 files [04:37,  4.88 files/s]\u001b[A\n",
            "Copying files: 3015 files [04:38,  4.84 files/s]\u001b[A\n",
            "Copying files: 3022 files [04:38,  6.61 files/s]\u001b[A\n",
            "Copying files: 3027 files [04:39,  7.22 files/s]\u001b[A\n",
            "Copying files: 3036 files [04:40,  9.06 files/s]\u001b[A\n",
            "Copying files: 3039 files [04:40,  7.89 files/s]\u001b[A\n",
            "Copying files: 3043 files [04:41,  7.24 files/s]\u001b[A\n",
            "Copying files: 3046 files [04:41,  6.56 files/s]\u001b[A\n",
            "Copying files: 3048 files [04:42,  5.74 files/s]\u001b[A\n",
            "Copying files: 3050 files [04:43,  5.11 files/s]\u001b[A\n",
            "Copying files: 3051 files [04:43,  4.05 files/s]\u001b[A\n",
            "Copying files: 3058 files [04:44,  6.26 files/s]\u001b[A\n",
            "Copying files: 3064 files [04:45,  5.78 files/s]\u001b[A\n",
            "Copying files: 3071 files [04:46,  6.95 files/s]\u001b[A\n",
            "Copying files: 3072 files [04:46,  5.62 files/s]\u001b[A\n",
            "Copying files: 3076 files [04:47,  5.87 files/s]\u001b[A\n",
            "Copying files: 3077 files [04:48,  3.93 files/s]\u001b[A\n",
            "Copying files: 3080 files [04:49,  4.08 files/s]\u001b[A\n",
            "Copying files: 3085 files [04:49,  4.54 files/s]\u001b[A\n",
            "Copying files: 3088 files [04:50,  4.40 files/s]\u001b[A\n",
            "Copying files: 3091 files [04:51,  4.62 files/s]\u001b[A\n",
            "Copying files: 3097 files [04:51,  5.95 files/s]\u001b[A\n",
            "Copying files: 3102 files [04:52,  6.46 files/s]\u001b[A\n",
            "Copying files: 3105 files [04:53,  6.02 files/s]\u001b[A\n",
            "Copying files: 3107 files [04:53,  5.36 files/s]\u001b[A\n",
            "Copying files: 3110 files [04:54,  5.14 files/s]\u001b[A\n",
            "Copying files: 3112 files [04:55,  4.53 files/s]\u001b[A\n",
            "Copying files: 3117 files [04:55,  5.59 files/s]\u001b[A\n",
            "Copying files: 3119 files [04:56,  4.86 files/s]\u001b[A\n",
            "Copying files: 3120 files [04:56,  3.98 files/s]\u001b[A\n",
            "Copying files: 3125 files [04:57,  5.31 files/s]\u001b[A\n",
            "Copying files: 3133 files [04:58,  7.47 files/s]\u001b[A\n",
            "Copying files: 3135 files [04:58,  6.09 files/s]\u001b[A\n",
            "Copying files: 3140 files [04:59,  6.66 files/s]\u001b[A\n",
            "Copying files: 3146 files [04:59,  7.56 files/s]\u001b[A\n",
            "Copying files: 3157 files [05:00, 14.07 files/s]\u001b[A\n",
            "Copying files: 3161 files [05:00, 11.28 files/s]\u001b[A\n",
            "Copying files: 3165 files [05:01,  9.92 files/s]\u001b[A\n",
            "Copying files: 3170 files [05:01,  9.39 files/s]\u001b[A\n",
            "Copying files: 3173 files [05:02,  7.93 files/s]\u001b[A\n",
            "Copying files: 3175 files [05:03,  5.08 files/s]\u001b[A\n",
            "Copying files: 3186 files [05:03, 10.78 files/s]\u001b[A\n",
            "Copying files: 3190 files [05:05,  5.78 files/s]\u001b[A\n",
            "Copying files: 3193 files [05:07,  3.94 files/s]\u001b[A\n",
            "Copying files: 3196 files [05:09,  2.86 files/s]\u001b[A\n",
            "Copying files: 3198 files [05:10,  2.57 files/s]\u001b[A\n",
            "Copying files: 3200 files [05:12,  2.09 files/s]\u001b[A\n",
            "Copying files: 3201 files [05:12,  2.04 files/s]\u001b[A\n",
            "Copying files: 3202 files [05:13,  1.98 files/s]\u001b[A\n",
            "Copying files: 3203 files [05:13,  1.96 files/s]\u001b[A\n",
            "Copying files: 3204 files [05:14,  1.91 files/s]\u001b[A\n",
            "Copying files: 3205 files [05:15,  1.88 files/s]\u001b[A\n",
            "Copying files: 3206 files [05:15,  1.81 files/s]\u001b[A\n",
            "Copying files: 3207 files [05:16,  1.77 files/s]\u001b[A\n",
            "Copying files: 3208 files [05:16,  1.78 files/s]\u001b[A\n",
            "Copying files: 3209 files [05:17,  1.77 files/s]\u001b[A\n",
            "Copying files: 3210 files [05:17,  1.79 files/s]\u001b[A\n",
            "Copying files: 3211 files [05:18,  1.77 files/s]\u001b[A\n",
            "Copying files: 3212 files [05:19,  1.78 files/s]\u001b[A\n",
            "Copying files: 3213 files [05:19,  1.76 files/s]\u001b[A\n",
            "Copying files: 3214 files [05:20,  1.78 files/s]\u001b[A\n",
            "Copying files: 3215 files [05:20,  1.74 files/s]\u001b[A\n",
            "Copying files: 3216 files [05:21,  1.72 files/s]\u001b[A\n",
            "Copying files: 3217 files [05:22,  1.73 files/s]\u001b[A\n",
            "Copying files: 3218 files [05:22,  1.72 files/s]\u001b[A\n",
            "Copying files: 3219 files [05:23,  1.67 files/s]\u001b[A\n",
            "Copying files: 3220 files [05:23,  1.58 files/s]\u001b[A\n",
            "Copying files: 3221 files [05:24,  1.56 files/s]\u001b[A\n",
            "Copying files: 3222 files [05:25,  1.58 files/s]\u001b[A\n",
            "Copying files: 3223 files [05:25,  1.63 files/s]\u001b[A\n",
            "Copying files: 3224 files [05:26,  1.63 files/s]\u001b[A\n",
            "Copying files: 3225 files [05:27,  1.65 files/s]\u001b[A\n",
            "Copying files: 3226 files [05:27,  1.65 files/s]\u001b[A\n",
            "Copying files: 3227 files [05:28,  1.63 files/s]\u001b[A\n",
            "Copying files: 3228 files [05:28,  1.65 files/s]\u001b[A\n",
            "Copying files: 3229 files [05:29,  1.67 files/s]\u001b[A\n",
            "Copying files: 3230 files [05:29,  1.69 files/s]\u001b[A\n",
            "Copying files: 3231 files [05:30,  1.68 files/s]\u001b[A\n",
            "Copying files: 3232 files [05:31,  1.68 files/s]\u001b[A\n",
            "Copying files: 3233 files [05:31,  1.70 files/s]\u001b[A\n",
            "Copying files: 3234 files [05:32,  1.62 files/s]\u001b[A\n",
            "Copying files: 3235 files [05:33,  1.65 files/s]\u001b[A\n",
            "Copying files: 3236 files [05:33,  1.64 files/s]\u001b[A\n",
            "Copying files: 3237 files [05:34,  1.67 files/s]\u001b[A\n",
            "Copying files: 3238 files [05:34,  1.68 files/s]\u001b[A\n",
            "Copying files: 3239 files [05:35,  1.68 files/s]\u001b[A\n",
            "Copying files: 3240 files [05:35,  1.68 files/s]\u001b[A\n",
            "Copying files: 3241 files [05:36,  1.68 files/s]\u001b[A\n",
            "Copying files: 3242 files [05:37,  1.67 files/s]\u001b[A\n",
            "Copying files: 3243 files [05:37,  1.70 files/s]\u001b[A\n",
            "Copying files: 3244 files [05:38,  1.69 files/s]\u001b[A\n",
            "Copying files: 3245 files [05:39,  1.64 files/s]\u001b[A\n",
            "Copying files: 3246 files [05:39,  1.64 files/s]\u001b[A\n",
            "Copying files: 3247 files [05:40,  1.64 files/s]\u001b[A\n",
            "Copying files: 3248 files [05:40,  1.68 files/s]\u001b[A\n",
            "Copying files: 3249 files [05:41,  1.65 files/s]\u001b[A\n",
            "Copying files: 3250 files [05:42,  1.66 files/s]\u001b[A\n",
            "Copying files: 3251 files [05:42,  1.63 files/s]\u001b[A\n",
            "Copying files: 3252 files [05:43,  1.65 files/s]\u001b[A\n",
            "Copying files: 3253 files [05:43,  1.66 files/s]\u001b[A\n",
            "Copying files: 3254 files [05:44,  1.66 files/s]\u001b[A\n",
            "Copying files: 3255 files [05:45,  1.68 files/s]\u001b[A\n",
            "Copying files: 3256 files [05:45,  1.66 files/s]\u001b[A\n",
            "Copying files: 3257 files [05:46,  1.64 files/s]\u001b[A\n",
            "Copying files: 3258 files [05:46,  1.63 files/s]\u001b[A\n",
            "Copying files: 3259 files [05:47,  1.64 files/s]\u001b[A\n",
            "Copying files: 3260 files [05:48,  1.64 files/s]\u001b[A\n",
            "Copying files: 3261 files [05:48,  1.63 files/s]\u001b[A\n",
            "Copying files: 3262 files [05:49,  1.65 files/s]\u001b[A\n",
            "Copying files: 3263 files [05:49,  1.64 files/s]\u001b[A\n",
            "Copying files: 3264 files [05:50,  1.65 files/s]\u001b[A\n",
            "Copying files: 3265 files [05:51,  1.66 files/s]\u001b[A\n",
            "Copying files: 3266 files [05:51,  1.68 files/s]\u001b[A\n",
            "Copying files: 3267 files [05:52,  1.68 files/s]\u001b[A\n",
            "Copying files: 3268 files [05:52,  1.70 files/s]\u001b[A\n",
            "Copying files: 3269 files [05:53,  1.68 files/s]\u001b[A\n",
            "Copying files: 3270 files [05:54,  1.70 files/s]\u001b[A\n",
            "Copying files: 3271 files [05:54,  1.70 files/s]\u001b[A\n",
            "Copying files: 3272 files [05:55,  1.69 files/s]\u001b[A\n",
            "Copying files: 3273 files [05:55,  1.66 files/s]\u001b[A\n",
            "Copying files: 3274 files [05:56,  1.66 files/s]\u001b[A\n",
            "Copying files: 3275 files [05:57,  1.67 files/s]\u001b[A\n",
            "Copying files: 3276 files [05:57,  1.64 files/s]\u001b[A\n",
            "Copying files: 3277 files [05:58,  1.45 files/s]\u001b[A\n",
            "Copying files: 3278 files [05:59,  1.51 files/s]\u001b[A\n",
            "Copying files: 3279 files [05:59,  1.57 files/s]\u001b[A\n",
            "Copying files: 3280 files [06:00,  1.57 files/s]\u001b[A\n",
            "Copying files: 3281 files [06:01,  1.51 files/s]\u001b[A\n",
            "Copying files: 3282 files [06:01,  1.58 files/s]\u001b[A\n",
            "Copying files: 3283 files [06:02,  1.64 files/s]\u001b[A\n",
            "Copying files: 3284 files [06:02,  1.63 files/s]\u001b[A\n",
            "Copying files: 3285 files [06:03,  1.59 files/s]\u001b[A\n",
            "Copying files: 3286 files [06:04,  1.62 files/s]\u001b[A\n",
            "Copying files: 3287 files [06:04,  1.66 files/s]\u001b[A\n",
            "Copying files: 3288 files [06:05,  1.68 files/s]\u001b[A\n",
            "Copying files: 3289 files [06:06,  1.49 files/s]\u001b[A\n",
            "Copying files: 3290 files [06:06,  1.52 files/s]\u001b[A\n",
            "Copying files: 3291 files [06:07,  1.58 files/s]\u001b[A\n",
            "Copying files: 3292 files [06:07,  1.59 files/s]\u001b[A\n",
            "Copying files: 3293 files [06:08,  1.64 files/s]\u001b[A\n",
            "Copying files: 3294 files [06:09,  1.64 files/s]\u001b[A\n",
            "Copying files: 3295 files [06:09,  1.62 files/s]\u001b[A\n",
            "Copying files: 3296 files [06:10,  1.62 files/s]\u001b[A\n",
            "Copying files: 3297 files [06:10,  1.61 files/s]\u001b[A\n",
            "Copying files: 3298 files [06:11,  1.61 files/s]\u001b[A\n",
            "Copying files: 3299 files [06:12,  1.62 files/s]\u001b[A\n",
            "Copying files: 3300 files [06:12,  1.60 files/s]\u001b[A\n",
            "Copying files: 3301 files [06:13,  1.63 files/s]\u001b[A\n",
            "Copying files: 3302 files [06:14,  1.66 files/s]\u001b[A\n",
            "Copying files: 3303 files [06:14,  1.63 files/s]\u001b[A\n",
            "Copying files: 3304 files [06:15,  1.65 files/s]\u001b[A\n",
            "Copying files: 3305 files [06:15,  1.66 files/s]\u001b[A\n",
            "Copying files: 3306 files [06:16,  1.68 files/s]\u001b[A\n",
            "Copying files: 3307 files [06:17,  1.69 files/s]\u001b[A\n",
            "Copying files: 3308 files [06:17,  1.72 files/s]\u001b[A\n",
            "Copying files: 3309 files [06:18,  1.75 files/s]\u001b[A\n",
            "Copying files: 3310 files [06:18,  1.65 files/s]\u001b[A\n",
            "Copying files: 3311 files [06:19,  1.66 files/s]\u001b[A\n",
            "Copying files: 3312 files [06:19,  1.69 files/s]\u001b[A\n",
            "Copying files: 3313 files [06:20,  1.67 files/s]\u001b[A\n",
            "Copying files: 3314 files [06:21,  1.70 files/s]\u001b[A\n",
            "Copying files: 3315 files [06:21,  1.66 files/s]\u001b[A\n",
            "Copying files: 3316 files [06:22,  1.65 files/s]\u001b[A\n",
            "Copying files: 3317 files [06:23,  1.39 files/s]\u001b[A\n",
            "Copying files: 3318 files [06:23,  1.45 files/s]\u001b[A\n",
            "Copying files: 3319 files [06:24,  1.53 files/s]\u001b[A\n",
            "Copying files: 3320 files [06:25,  1.56 files/s]\u001b[A\n",
            "Copying files: 3321 files [06:25,  1.58 files/s]\u001b[A\n",
            "Copying files: 3322 files [06:26,  1.64 files/s]\u001b[A\n",
            "Copying files: 3323 files [06:26,  1.70 files/s]\u001b[A\n",
            "Copying files: 3324 files [06:27,  1.69 files/s]\u001b[A\n",
            "Copying files: 3325 files [06:28,  1.69 files/s]\u001b[A\n",
            "Copying files: 3326 files [06:28,  1.70 files/s]\u001b[A\n",
            "Copying files: 3327 files [06:29,  1.71 files/s]\u001b[A\n",
            "Copying files: 3328 files [06:29,  1.74 files/s]\u001b[A\n",
            "Copying files: 3329 files [06:30,  1.72 files/s]\u001b[A\n",
            "Copying files: 3330 files [06:30,  1.73 files/s]\u001b[A\n",
            "Copying files: 3331 files [06:31,  1.73 files/s]\u001b[A\n",
            "Copying files: 3332 files [06:32,  1.70 files/s]\u001b[A\n",
            "Copying files: 3333 files [06:33,  1.36 files/s]\u001b[A\n",
            "Copying files: 3334 files [06:33,  1.39 files/s]\u001b[A\n",
            "Copying files: 3335 files [06:35,  1.18 files/s]\u001b[A\n",
            "Copying files: 3336 files [06:35,  1.33 files/s]\u001b[A\n",
            "Copying files: 3337 files [06:36,  1.43 files/s]\u001b[A\n",
            "Copying files: 3338 files [06:36,  1.53 files/s]\u001b[A\n",
            "Copying files: 3339 files [06:37,  1.25 files/s]\u001b[A\n",
            "Copying files: 3340 files [06:38,  1.13 files/s]\u001b[A\n",
            "Copying files: 3341 files [06:39,  1.27 files/s]\u001b[A\n",
            "Copying files: 3342 files [06:40,  1.36 files/s]\u001b[A\n",
            "Copying files: 3343 files [06:41,  1.19 files/s]\u001b[A\n",
            "Copying files: 3344 files [06:48,  2.82s/ files]\u001b[A\n",
            "Copying files: 3345 files [06:49,  2.29s/ files]\u001b[A\n",
            "Copying files: 3347 files [06:50,  1.37s/ files]\u001b[A\n",
            "Copying files: 3359 files [06:50,  3.53 files/s]\u001b[A\n",
            "Copying files: 3363 files [06:52,  2.80 files/s]\u001b[A\n",
            "Copying files: 3373 files [06:53,  4.33 files/s]\u001b[A\n",
            "Copying files: 3377 files [06:54,  4.63 files/s]\u001b[A\n",
            "Copying files: 3380 files [06:55,  3.63 files/s]\u001b[A\n",
            "Copying files: 3387 files [06:56,  4.94 files/s]\u001b[A\n",
            "Copying files: 3389 files [06:57,  4.68 files/s]\u001b[A\n",
            "Copying files: 3391 files [06:58,  3.82 files/s]\u001b[A\n",
            "Copying files: 3393 files [06:58,  3.73 files/s]\u001b[A\n",
            "Copying files: 3398 files [06:59,  4.15 files/s]\u001b[A\n",
            "Copying files: 3399 files [07:00,  3.48 files/s]\u001b[A\n",
            "Copying files: 3406 files [07:01,  4.78 files/s]\u001b[A\n",
            "Copying files: 3409 files [07:01,  4.84 files/s]\u001b[A\n",
            "Copying files: 3413 files [07:02,  4.47 files/s]\u001b[A\n",
            "Copying files: 3423 files [07:03,  7.20 files/s]\u001b[A\n",
            "Copying files: 3425 files [07:04,  6.37 files/s]\u001b[A\n",
            "Copying files: 3432 files [07:04,  7.46 files/s]\u001b[A\n",
            "Copying files: 3436 files [07:05,  7.36 files/s]\u001b[A\n",
            "Copying files: 3438 files [07:05,  6.26 files/s]\u001b[A\n",
            "Copying files: 3439 files [07:06,  4.85 files/s]\u001b[A\n",
            "Copying files: 3442 files [07:07,  4.88 files/s]\u001b[A\n",
            "Copying files: 3452 files [07:07,  8.21 files/s]\u001b[A\n",
            "Copying files: 3458 files [07:08,  7.61 files/s]\u001b[A\n",
            "Copying files: 3460 files [07:09,  6.38 files/s]\u001b[A\n",
            "Copying files: 3462 files [07:09,  5.67 files/s]\u001b[A\n",
            "Copying files: 3464 files [07:10,  4.95 files/s]\u001b[A\n",
            "Copying files: 3468 files [07:11,  5.49 files/s]\u001b[A\n",
            "Copying files: 3472 files [07:11,  5.84 files/s]\u001b[A\n",
            "Copying files: 3474 files [07:12,  5.08 files/s]\u001b[A\n",
            "Copying files: 3475 files [07:12,  4.11 files/s]\u001b[A\n",
            "Copying files: 3485 files [07:12, 10.47 files/s]\u001b[A\n",
            "Copying files: 3489 files [07:15,  4.62 files/s]\u001b[A\n",
            "Copying files: 3492 files [07:15,  4.69 files/s]\u001b[A\n",
            "Copying files: 3496 files [07:16,  5.15 files/s]\u001b[A\n",
            "Copying files: 3498 files [07:16,  4.75 files/s]\u001b[A\n",
            "Copying files: 3500 files [07:17,  4.37 files/s]\u001b[A\n",
            "Copying files: 3502 files [07:18,  4.00 files/s]\u001b[A\n",
            "Copying files: 3506 files [07:18,  4.69 files/s]\u001b[A\n",
            "Copying files: 3507 files [07:19,  3.87 files/s]\u001b[A\n",
            "Copying files: 3511 files [07:20,  4.67 files/s]\u001b[A\n",
            "Copying files: 3513 files [07:20,  4.36 files/s]\u001b[A\n",
            "Copying files: 3522 files [07:21,  7.35 files/s]\u001b[A\n",
            "Copying files: 3525 files [07:21,  6.51 files/s]\u001b[A\n",
            "Copying files: 3528 files [07:22,  5.64 files/s]\u001b[A\n",
            "Copying files: 3537 files [07:23,  8.06 files/s]\u001b[A\n",
            "Copying files: 3540 files [07:23,  7.20 files/s]\u001b[A\n",
            "Copying files: 3548 files [07:23, 11.72 files/s]\u001b[A\n",
            "Copying files: 3551 files [07:24,  9.46 files/s]\u001b[A\n",
            "Copying files: 3554 files [07:25,  7.83 files/s]\u001b[A\n",
            "Copying files: 3559 files [07:25,  7.96 files/s]\u001b[A\n",
            "Copying files: 3563 files [07:26,  7.52 files/s]\u001b[A\n",
            "Copying files: 3565 files [07:27,  4.84 files/s]\u001b[A\n",
            "Copying files: 3566 files [07:28,  3.85 files/s]\u001b[A\n",
            "Copying files: 3568 files [07:28,  3.69 files/s]\u001b[A\n",
            "Copying files: 3569 files [07:30,  2.57 files/s]\u001b[A\n",
            "Copying files: 3573 files [07:30,  3.60 files/s]\u001b[A\n",
            "Copying files: 3574 files [07:31,  3.15 files/s]\u001b[A\n",
            "Copying files: 3575 files [07:31,  2.79 files/s]\u001b[A\n",
            "Copying files: 3577 files [07:32,  2.91 files/s]\u001b[A\n",
            "Copying files: 3587 files [07:32,  6.75 files/s]\u001b[A\n",
            "Copying files: 3588 files [07:34,  4.35 files/s]\u001b[A\n",
            "Copying files: 3598 files [07:34,  7.45 files/s]\u001b[A\n",
            "Copying files: 3608 files [07:35,  9.78 files/s]\u001b[A\n",
            "Copying files: 3610 files [07:35,  8.25 files/s]\u001b[A\n",
            "Copying files: 3612 files [07:36,  6.93 files/s]\u001b[A\n",
            "Copying files: 3616 files [07:36,  6.77 files/s]\u001b[A\n",
            "Copying files: 3617 files [07:37,  5.29 files/s]\u001b[A\n",
            "Copying files: 3619 files [07:38,  4.78 files/s]\u001b[A\n",
            "Copying files: 3625 files [07:38,  6.24 files/s]\u001b[A\n",
            "Copying files: 3630 files [07:39,  6.86 files/s]\u001b[A\n",
            "Copying files: 3632 files [07:39,  5.88 files/s]\u001b[A\n",
            "Copying files: 3643 files [07:40, 12.82 files/s]\u001b[A\n",
            "Copying files: 3651 files [07:40, 13.04 files/s]\u001b[A\n",
            "Copying files: 3659 files [07:41, 12.74 files/s]\u001b[A\n",
            "Copying files: 3666 files [07:41, 12.36 files/s]\u001b[A\n",
            "Copying files: 3669 files [07:42,  9.93 files/s]\u001b[A\n",
            "Copying files: 3671 files [07:43,  8.01 files/s]\u001b[A\n",
            "Copying files: 3680 files [07:43,  9.90 files/s]\u001b[A\n",
            "Copying files: 3682 files [07:44,  6.59 files/s]\u001b[A\n",
            "Copying files: 3684 files [07:45,  5.85 files/s]\u001b[A\n",
            "Copying files: 3689 files [07:45,  6.62 files/s]\u001b[A\n",
            "Copying files: 3691 files [07:46,  5.66 files/s]\u001b[A\n",
            "Copying files: 3695 files [07:47,  6.05 files/s]\u001b[A\n",
            "Copying files: 3697 files [07:47,  5.32 files/s]\u001b[A\n",
            "Copying files: 3701 files [07:48,  4.73 files/s]\u001b[A\n",
            "Copying files: 3704 files [07:49,  4.79 files/s]\u001b[A\n",
            "Copying files: 3708 files [07:49,  5.36 files/s]\u001b[A\n",
            "Copying files: 3717 files [07:50,  6.76 files/s]\u001b[A\n",
            "Copying files: 3725 files [07:51,  8.41 files/s]\u001b[A\n",
            "Copying files: 3729 files [07:52,  7.97 files/s]\u001b[A\n",
            "Copying files: 3734 files [07:53,  5.82 files/s]\u001b[A\n",
            "Copying files: 3736 files [07:54,  5.32 files/s]\u001b[A\n",
            "Copying files: 3737 files [07:54,  4.59 files/s]\u001b[A\n",
            "Copying files: 3740 files [07:55,  4.64 files/s]\u001b[A\n",
            "Copying files: 3743 files [07:55,  4.81 files/s]\u001b[A\n",
            "Copying files: 3745 files [07:56,  3.64 files/s]\u001b[A\n",
            "Copying files: 3746 files [07:57,  3.16 files/s]\u001b[A\n",
            "Copying files: 3750 files [07:57,  4.11 files/s]\u001b[A\n",
            "Copying files: 3757 files [07:58,  6.08 files/s]\u001b[A\n",
            "Copying files: 3760 files [07:59,  5.72 files/s]\u001b[A\n",
            "Copying files: 3761 files [07:59,  4.56 files/s]\u001b[A\n",
            "Copying files: 3769 files [07:59,  9.29 files/s]\u001b[A\n",
            "Copying files: 3772 files [08:00,  7.77 files/s]\u001b[A\n",
            "Copying files: 3775 files [08:01,  6.85 files/s]\u001b[A\n",
            "Copying files: 3778 files [08:01,  6.21 files/s]\u001b[A\n",
            "Copying files: 3785 files [08:02,  7.81 files/s]\u001b[A\n",
            "Copying files: 3787 files [08:03,  6.38 files/s]\u001b[A\n",
            "Copying files: 3789 files [08:03,  5.54 files/s]\u001b[A\n",
            "Copying files: 3790 files [08:04,  3.59 files/s]\u001b[A\n",
            "Copying files: 3793 files [08:05,  3.33 files/s]\u001b[A\n",
            "Copying files: 3799 files [08:06,  4.88 files/s]\u001b[A\n",
            "Copying files: 3802 files [08:07,  4.16 files/s]\u001b[A\n",
            "Copying files: 3807 files [08:07,  5.10 files/s]\u001b[A\n",
            "Copying files: 3808 files [08:08,  4.30 files/s]\u001b[A\n",
            "Copying files: 3810 files [08:09,  3.41 files/s]\u001b[A\n",
            "Copying files: 3814 files [08:10,  4.17 files/s]\u001b[A\n",
            "Copying files: 3816 files [08:11,  3.35 files/s]\u001b[A\n",
            "Copying files: 3819 files [08:11,  3.75 files/s]\u001b[A\n",
            "Copying files: 3822 files [08:11,  5.14 files/s]\u001b[A\n",
            "Copying files: 3824 files [08:12,  4.70 files/s]\u001b[A\n",
            "Copying files: 3828 files [08:13,  5.28 files/s]\u001b[A\n",
            "Copying files: 3838 files [08:13,  8.67 files/s]\u001b[A\n",
            "Copying files: 3845 files [08:14,  9.52 files/s]\u001b[A\n",
            "Copying files: 3848 files [08:14,  7.98 files/s]\u001b[A\n",
            "Copying files: 3853 files [08:15,  8.06 files/s]\u001b[A\n",
            "Copying files: 3864 files [08:16, 10.76 files/s]\u001b[A\n",
            "Copying files: 3867 files [08:17,  7.10 files/s]\u001b[A\n",
            "Copying files: 3876 files [08:18,  8.80 files/s]\u001b[A\n",
            "Copying files: 3879 files [08:18,  8.06 files/s]\u001b[A\n",
            "Copying files: 3883 files [08:19,  7.62 files/s]\u001b[A\n",
            "Copying files: 3885 files [08:19,  6.55 files/s]\u001b[A\n",
            "Copying files: 3890 files [08:20,  6.71 files/s]\u001b[A\n",
            "Copying files: 3891 files [08:21,  5.29 files/s]\u001b[A\n",
            "Copying files: 3894 files [08:21,  4.52 files/s]\u001b[A\n",
            "Copying files: 3895 files [08:22,  3.85 files/s]\u001b[A\n",
            "Copying files: 3900 files [08:23,  5.07 files/s]\u001b[A\n",
            "Copying files: 3902 files [08:23,  4.67 files/s]\u001b[A\n",
            "Copying files: 3903 files [08:24,  3.90 files/s]\u001b[A\n",
            "Copying files: 3907 files [08:24,  4.76 files/s]\u001b[A\n",
            "Copying files: 3909 files [08:25,  3.58 files/s]\u001b[A\n",
            "Copying files: 3917 files [08:26,  6.07 files/s]\u001b[A\n",
            "Copying files: 3919 files [08:27,  5.42 files/s]\u001b[A\n",
            "Copying files: 3926 files [08:27,  6.98 files/s]\u001b[A\n",
            "Copying files: 3928 files [08:28,  5.83 files/s]\u001b[A\n",
            "Copying files: 3931 files [08:28,  5.63 files/s]\u001b[A\n",
            "Copying files: 3934 files [08:29,  5.47 files/s]\u001b[A\n",
            "Copying files: 3936 files [08:30,  4.87 files/s]\u001b[A\n",
            "Copying files: 3946 files [08:30,  8.34 files/s]\u001b[A\n",
            "Copying files: 3956 files [08:31,  9.52 files/s]\u001b[A\n",
            "Copying files: 3958 files [08:32,  7.91 files/s]\u001b[A\n",
            "Copying files: 3960 files [08:32,  6.63 files/s]\u001b[A\n",
            "Copying files: 3971 files [08:32, 13.08 files/s]\u001b[A\n",
            "Copying files: 3979 files [08:33, 12.82 files/s]\u001b[A\n",
            "Copying files: 3982 files [08:35,  5.27 files/s]\u001b[A\n",
            "Copying files: 3992 files [08:35,  8.90 files/s]\u001b[A\n",
            "Copying files: 3997 files [08:36,  8.64 files/s]\u001b[A\n",
            "Copying files: 4001 files [08:37,  6.43 files/s]\u001b[A\n",
            "Copying files: 4004 files [08:38,  6.21 files/s]\u001b[A\n",
            "Copying files: 4007 files [08:38,  6.01 files/s]\u001b[A\n",
            "Copying files: 4009 files [08:39,  5.33 files/s]\u001b[A\n",
            "Copying files: 4011 files [08:40,  3.75 files/s]\u001b[A\n",
            "Copying files: 4015 files [08:41,  4.47 files/s]\u001b[A\n",
            "Copying files: 4017 files [08:41,  4.18 files/s]\u001b[A\n",
            "Copying files: 4018 files [08:42,  3.49 files/s]\u001b[A\n",
            "Copying files: 4028 files [08:43,  6.88 files/s]\u001b[A\n",
            "Copying files: 4031 files [08:43,  6.45 files/s]\u001b[A\n",
            "Copying files: 4034 files [08:44,  6.16 files/s]\u001b[A\n",
            "Copying files: 4037 files [08:44,  5.75 files/s]\u001b[A\n",
            "Copying files: 4039 files [08:45,  5.06 files/s]\u001b[A\n",
            "Copying files: 4041 files [08:46,  4.62 files/s]\u001b[A\n",
            "Copying files: 4048 files [08:46,  6.78 files/s]\u001b[A\n",
            "Copying files: 4051 files [08:47,  6.20 files/s]\u001b[A\n",
            "Copying files: 4053 files [08:47,  5.35 files/s]\u001b[A\n",
            "Copying files: 4063 files [08:48,  8.44 files/s]\u001b[A\n",
            "Copying files: 4067 files [08:49,  7.93 files/s]\u001b[A\n",
            "Copying files: 4071 files [08:49,  7.48 files/s]\u001b[A\n",
            "Copying files: 4080 files [08:50,  9.11 files/s]\u001b[A\n",
            "Copying files: 4081 files [08:51,  7.19 files/s]\u001b[A\n",
            "Copying files: 4086 files [08:51,  7.44 files/s]\u001b[A\n",
            "Copying files: 4092 files [08:52,  8.13 files/s]\u001b[A\n",
            "Copying files: 4095 files [08:52,  7.33 files/s]\u001b[A\n",
            "Copying files: 4096 files [08:53,  4.49 files/s]\u001b[A\n",
            "Copying files: 4106 files [08:54,  7.28 files/s]\u001b[A\n",
            "Copying files: 4116 files [08:55,  9.46 files/s]\u001b[A\n",
            "Copying files: 4122 files [08:55,  9.39 files/s]\u001b[A\n",
            "Copying files: 4123 files [08:56,  7.42 files/s]\u001b[A\n",
            "Copying files: 4124 files [08:57,  5.92 files/s]\u001b[A\n",
            "Copying files: 4125 files [08:57,  4.74 files/s]\u001b[A\n",
            "Copying files: 4126 files [08:58,  3.92 files/s]\u001b[A\n",
            "Copying files: 4127 files [08:58,  3.29 files/s]\u001b[A\n",
            "Copying files: 4128 files [08:59,  2.80 files/s]\u001b[A\n",
            "Copying files: 4129 files [08:59,  2.49 files/s]\u001b[A\n",
            "Copying files: 4130 files [09:00,  2.29 files/s]\u001b[A\n",
            "Copying files: 4131 files [09:01,  2.11 files/s]\u001b[A\n",
            "Copying files: 4132 files [09:01,  1.96 files/s]\u001b[A\n",
            "Copying files: 4133 files [09:02,  1.84 files/s]\u001b[A\n",
            "Copying files: 4134 files [09:02,  1.79 files/s]\u001b[A\n",
            "Copying files: 4135 files [09:03,  1.76 files/s]\u001b[A\n",
            "Copying files: 4136 files [09:04,  1.73 files/s]\u001b[A\n",
            "Copying files: 4137 files [09:04,  1.74 files/s]\u001b[A\n",
            "Copying files: 4138 files [09:05,  1.69 files/s]\u001b[A\n",
            "Copying files: 4139 files [09:05,  1.69 files/s]\u001b[A\n",
            "Copying files: 4140 files [09:06,  1.74 files/s]\u001b[A\n",
            "Copying files: 4141 files [09:07,  1.73 files/s]\u001b[A\n",
            "Copying files: 4142 files [09:07,  1.72 files/s]\u001b[A\n",
            "Copying files: 4143 files [09:08,  1.64 files/s]\u001b[A\n",
            "Copying files: 4144 files [09:08,  1.70 files/s]\u001b[A\n",
            "Copying files: 4145 files [09:09,  1.72 files/s]\u001b[A\n",
            "Copying files: 4146 files [09:09,  1.72 files/s]\u001b[A\n",
            "Copying files: 4147 files [09:10,  1.68 files/s]\u001b[A\n",
            "Copying files: 4148 files [09:11,  1.71 files/s]\u001b[A\n",
            "Copying files: 4149 files [09:11,  1.75 files/s]\u001b[A\n",
            "Copying files: 4150 files [09:12,  1.75 files/s]\u001b[A\n",
            "Copying files: 4151 files [09:12,  1.74 files/s]\u001b[A\n",
            "Copying files: 4152 files [09:13,  1.77 files/s]\u001b[A\n",
            "Copying files: 4153 files [09:13,  1.77 files/s]\u001b[A\n",
            "Copying files: 4154 files [09:14,  1.77 files/s]\u001b[A\n",
            "Copying files: 4155 files [09:15,  1.76 files/s]\u001b[A\n",
            "Copying files: 4156 files [09:15,  1.76 files/s]\u001b[A\n",
            "Copying files: 4157 files [09:16,  1.77 files/s]\u001b[A\n",
            "Copying files: 4158 files [09:16,  1.76 files/s]\u001b[A\n",
            "Copying files: 4159 files [09:17,  1.75 files/s]\u001b[A\n",
            "Copying files: 4160 files [09:17,  1.75 files/s]\u001b[A\n",
            "Copying files: 4161 files [09:18,  1.75 files/s]\u001b[A\n",
            "Copying files: 4162 files [09:19,  1.74 files/s]\u001b[A\n",
            "Copying files: 4163 files [09:19,  1.76 files/s]\u001b[A\n",
            "Copying files: 4164 files [09:20,  1.76 files/s]\u001b[A\n",
            "Copying files: 4165 files [09:20,  1.74 files/s]\u001b[A\n",
            "Copying files: 4166 files [09:21,  1.70 files/s]\u001b[A\n",
            "Copying files: 4167 files [09:22,  1.69 files/s]\u001b[A\n",
            "Copying files: 4168 files [09:22,  1.69 files/s]\u001b[A\n",
            "Copying files: 4169 files [09:23,  1.69 files/s]\u001b[A\n",
            "Copying files: 4170 files [09:23,  1.71 files/s]\u001b[A\n",
            "Copying files: 4171 files [09:24,  1.52 files/s]\u001b[A\n",
            "Copying files: 4172 files [09:25,  1.54 files/s]\u001b[A\n",
            "Copying files: 4173 files [09:25,  1.58 files/s]\u001b[A\n",
            "Copying files: 4174 files [09:26,  1.65 files/s]\u001b[A\n",
            "Copying files: 4175 files [09:27,  1.65 files/s]\u001b[A\n",
            "Copying files: 4176 files [09:27,  1.69 files/s]\u001b[A\n",
            "Copying files: 4177 files [09:28,  1.70 files/s]\u001b[A\n",
            "Copying files: 4178 files [09:28,  1.71 files/s]\u001b[A\n",
            "Copying files: 4179 files [09:29,  1.74 files/s]\u001b[A\n",
            "Copying files: 4180 files [09:29,  1.73 files/s]\u001b[A\n",
            "Copying files: 4181 files [09:30,  1.72 files/s]\u001b[A\n",
            "Copying files: 4182 files [09:31,  1.74 files/s]\u001b[A\n",
            "Copying files: 4183 files [09:31,  1.76 files/s]\u001b[A\n",
            "Copying files: 4184 files [09:32,  1.78 files/s]\u001b[A\n",
            "Copying files: 4185 files [09:32,  1.78 files/s]\u001b[A\n",
            "Copying files: 4186 files [09:33,  1.79 files/s]\u001b[A\n",
            "Copying files: 4187 files [09:33,  1.78 files/s]\u001b[A\n",
            "Copying files: 4188 files [09:34,  1.75 files/s]\u001b[A\n",
            "Copying files: 4189 files [09:34,  1.76 files/s]\u001b[A\n",
            "Copying files: 4190 files [09:35,  1.79 files/s]\u001b[A\n",
            "Copying files: 4191 files [09:36,  1.57 files/s]\u001b[A\n",
            "Copying files: 4192 files [09:36,  1.62 files/s]\u001b[A\n",
            "Copying files: 4193 files [09:37,  1.67 files/s]\u001b[A\n",
            "Copying files: 4194 files [09:38,  1.66 files/s]\u001b[A\n",
            "Copying files: 4195 files [09:38,  1.65 files/s]\u001b[A\n",
            "Copying files: 4196 files [09:39,  1.67 files/s]\u001b[A\n",
            "Copying files: 4197 files [09:39,  1.66 files/s]\u001b[A\n",
            "Copying files: 4198 files [09:40,  1.64 files/s]\u001b[A\n",
            "Copying files: 4199 files [09:41,  1.65 files/s]\u001b[A\n",
            "Copying files: 4200 files [09:41,  1.65 files/s]\u001b[A\n",
            "Copying files: 4201 files [09:42,  1.68 files/s]\u001b[A\n",
            "Copying files: 4202 files [09:42,  1.68 files/s]\u001b[A\n",
            "Copying files: 4203 files [09:43,  1.71 files/s]\u001b[A\n",
            "Copying files: 4204 files [09:44,  1.70 files/s]\u001b[A\n",
            "Copying files: 4205 files [09:44,  1.51 files/s]\u001b[A\n",
            "Copying files: 4206 files [09:45,  1.55 files/s]\u001b[A\n",
            "Copying files: 4207 files [09:45,  1.63 files/s]\u001b[A\n",
            "Copying files: 4208 files [09:46,  1.69 files/s]\u001b[A\n",
            "Copying files: 4209 files [09:47,  1.71 files/s]\u001b[A\n",
            "Copying files: 4210 files [09:47,  1.71 files/s]\u001b[A\n",
            "Copying files: 4211 files [09:48,  1.74 files/s]\u001b[A\n",
            "Copying files: 4212 files [09:48,  1.74 files/s]\u001b[A\n",
            "Copying files: 4213 files [09:49,  1.71 files/s]\u001b[A\n",
            "Copying files: 4214 files [09:49,  1.72 files/s]\u001b[A\n",
            "Copying files: 4215 files [09:50,  1.74 files/s]\u001b[A\n",
            "Copying files: 4216 files [09:51,  1.75 files/s]\u001b[A\n",
            "Copying files: 4217 files [09:51,  1.76 files/s]\u001b[A\n",
            "Copying files: 4218 files [09:52,  1.75 files/s]\u001b[A\n",
            "Copying files: 4219 files [09:52,  1.72 files/s]\u001b[A\n",
            "Copying files: 4220 files [09:53,  1.71 files/s]\u001b[A\n",
            "Copying files: 4221 files [09:54,  1.70 files/s]\u001b[A\n",
            "Copying files: 4222 files [09:54,  1.72 files/s]\u001b[A\n",
            "Copying files: 4223 files [09:55,  1.65 files/s]\u001b[A\n",
            "Copying files: 4224 files [09:55,  1.69 files/s]\u001b[A\n",
            "Copying files: 4225 files [09:56,  1.72 files/s]\u001b[A\n",
            "Copying files: 4226 files [09:57,  1.70 files/s]\u001b[A\n",
            "Copying files: 4227 files [09:57,  1.73 files/s]\u001b[A\n",
            "Copying files: 4228 files [09:58,  1.76 files/s]\u001b[A\n",
            "Copying files: 4229 files [09:58,  1.75 files/s]\u001b[A\n",
            "Copying files: 4230 files [09:59,  1.77 files/s]\u001b[A\n",
            "Copying files: 4231 files [09:59,  1.77 files/s]\u001b[A\n",
            "Copying files: 4232 files [10:00,  1.74 files/s]\u001b[A\n",
            "Copying files: 4233 files [10:00,  1.76 files/s]\u001b[A\n",
            "Copying files: 4234 files [10:01,  1.74 files/s]\u001b[A\n",
            "Copying files: 4235 files [10:02,  1.74 files/s]\u001b[A\n",
            "Copying files: 4236 files [10:02,  1.71 files/s]\u001b[A\n",
            "Copying files: 4237 files [10:03,  1.53 files/s]\u001b[A\n",
            "Copying files: 4238 files [10:04,  1.57 files/s]\u001b[A\n",
            "Copying files: 4239 files [10:04,  1.61 files/s]\u001b[A\n",
            "Copying files: 4240 files [10:05,  1.60 files/s]\u001b[A\n",
            "Copying files: 4241 files [10:05,  1.65 files/s]\u001b[A\n",
            "Copying files: 4242 files [10:06,  1.69 files/s]\u001b[A\n",
            "Copying files: 4243 files [10:07,  1.64 files/s]\u001b[A\n",
            "Copying files: 4244 files [10:07,  1.68 files/s]\u001b[A\n",
            "Copying files: 4245 files [10:08,  1.58 files/s]\u001b[A\n",
            "Copying files: 4246 files [10:08,  1.62 files/s]\u001b[A\n",
            "Copying files: 4247 files [10:09,  1.58 files/s]\u001b[A\n",
            "Copying files: 4248 files [10:10,  1.60 files/s]\u001b[A\n",
            "Copying files: 4249 files [10:10,  1.66 files/s]\u001b[A\n",
            "Copying files: 4250 files [10:11,  1.62 files/s]\u001b[A\n",
            "Copying files: 4251 files [10:12,  1.65 files/s]\u001b[A\n",
            "Copying files: 4252 files [10:12,  1.68 files/s]\u001b[A\n",
            "Copying files: 4253 files [10:13,  1.71 files/s]\u001b[A\n",
            "Copying files: 4254 files [10:13,  1.65 files/s]\u001b[A\n",
            "Copying files: 4255 files [10:14,  1.69 files/s]\u001b[A\n",
            "Copying files: 4256 files [10:14,  1.69 files/s]\u001b[A\n",
            "Copying files: 4257 files [10:15,  1.69 files/s]\u001b[A\n",
            "Copying files: 4258 files [10:16,  1.69 files/s]\u001b[A\n",
            "Copying files: 4259 files [10:16,  1.68 files/s]\u001b[A\n",
            "Copying files: 4260 files [10:17,  1.72 files/s]\u001b[A\n",
            "Copying files: 4261 files [10:17,  1.72 files/s]\u001b[A\n",
            "Copying files: 4262 files [10:18,  1.72 files/s]\u001b[A\n",
            "Copying files: 4263 files [10:19,  1.76 files/s]\u001b[A\n",
            "Copying files: 4264 files [10:19,  1.74 files/s]\u001b[A\n",
            "Copying files: 4265 files [10:20,  1.75 files/s]\u001b[A\n",
            "Copying files: 4266 files [10:20,  1.76 files/s]\u001b[A\n",
            "Copying files: 4267 files [10:21,  1.78 files/s]\u001b[A\n",
            "Copying files: 4268 files [10:21,  1.76 files/s]\u001b[A\n",
            "Copying files: 4269 files [10:22,  1.76 files/s]\u001b[A\n",
            "Copying files: 4270 files [10:23,  1.72 files/s]\u001b[A\n",
            "Copying files: 4271 files [10:23,  1.70 files/s]\u001b[A\n",
            "Copying files: 4272 files [10:24,  1.72 files/s]\u001b[A\n",
            "Copying files: 4273 files [10:24,  1.72 files/s]\u001b[A\n",
            "Copying files: 4274 files [10:25,  1.70 files/s]\u001b[A\n",
            "Copying files: 4275 files [10:25,  1.73 files/s]\u001b[A\n",
            "Copying files: 4276 files [10:26,  1.55 files/s]\u001b[A\n",
            "Copying files: 4277 files [10:27,  1.57 files/s]\u001b[A\n",
            "Copying files: 4278 files [10:27,  1.62 files/s]\u001b[A\n",
            "Copying files: 4279 files [10:28,  1.65 files/s]\u001b[A\n",
            "Copying files: 4280 files [10:29,  1.67 files/s]\u001b[A\n",
            "Copying files: 4281 files [10:29,  1.47 files/s]\u001b[A\n",
            "Copying files: 4282 files [10:30,  1.51 files/s]\u001b[A\n",
            "Copying files: 4283 files [10:31,  1.60 files/s]\u001b[A\n",
            "Copying files: 4284 files [10:31,  1.66 files/s]\u001b[A\n",
            "Copying files: 4285 files [10:34,  1.18s/ files]\u001b[A\n",
            "Copying files: 4286 files [10:34,  1.00s/ files]\u001b[A\n",
            "Copying files: 4287 files [10:35,  1.16 files/s]\u001b[A\n",
            "Copying files: 4288 files [10:35,  1.29 files/s]\u001b[A\n",
            "Copying files: 4289 files [10:36,  1.41 files/s]\u001b[A\n",
            "Copying files: 4290 files [10:37,  1.50 files/s]\u001b[A\n",
            "Copying files: 4291 files [10:37,  1.55 files/s]\u001b[A\n",
            "Copying files: 4292 files [10:38,  1.58 files/s]\u001b[A\n",
            "Copying files: 4293 files [10:38,  1.65 files/s]\u001b[A\n",
            "Copying files: 4294 files [10:39,  1.70 files/s]\u001b[A\n",
            "Copying files: 4295 files [10:39,  1.70 files/s]\u001b[A\n",
            "Copying files: 4296 files [10:40,  1.73 files/s]\u001b[A\n",
            "Copying files: 4297 files [10:41,  1.76 files/s]\u001b[A\n",
            "Copying files: 4298 files [10:41,  1.72 files/s]\u001b[A\n",
            "Copying files: 4299 files [10:42,  1.73 files/s]\u001b[A\n",
            "Copying files: 4300 files [10:42,  1.74 files/s]\u001b[A\n",
            "Copying files: 4301 files [10:43,  1.64 files/s]\u001b[A\n",
            "Copying files: 4302 files [10:44,  1.65 files/s]\u001b[A\n",
            "Copying files: 4303 files [10:44,  1.71 files/s]\u001b[A\n",
            "Copying files: 4304 files [10:45,  1.69 files/s]\u001b[A\n",
            "Copying files: 4305 files [10:45,  1.69 files/s]\u001b[A\n",
            "Copying files: 4306 files [10:46,  1.69 files/s]\u001b[A\n",
            "Copying files: 4307 files [10:47,  1.50 files/s]\u001b[A\n",
            "Copying files: 4308 files [10:47,  1.58 files/s]\u001b[A\n",
            "Copying files: 4309 files [10:48,  1.62 files/s]\u001b[A\n",
            "Copying files: 4310 files [10:49,  1.53 files/s]\u001b[A\n",
            "Copying files: 4311 files [10:49,  1.58 files/s]\u001b[A\n",
            "Copying files: 4312 files [10:50,  1.64 files/s]\u001b[A\n",
            "Copying files: 4313 files [10:50,  1.67 files/s]\u001b[A\n",
            "Copying files: 4314 files [10:51,  1.70 files/s]\u001b[A\n",
            "Copying files: 4315 files [10:52,  1.60 files/s]\u001b[A\n",
            "Copying files: 4316 files [10:52,  1.66 files/s]\u001b[A\n",
            "Copying files: 4317 files [10:53,  6.60 files/s]\n"
          ]
        }
      ],
      "source": [
        "splitfolders.ratio(input_folder,output='/content/drive/MyDrive/flowersdataset',ratio=(.8,0,.2),group_prefix=None)\n"
      ]
    },
    {
      "cell_type": "code",
      "execution_count": null,
      "metadata": {
        "colab": {
          "base_uri": "https://localhost:8080/"
        },
        "id": "L_79-6BRdNi-",
        "outputId": "e9c621a2-a729-4d79-ef19-b30705ac2839"
      },
      "outputs": [
        {
          "output_type": "stream",
          "name": "stdout",
          "text": [
            "Found 3452 images belonging to 5 classes.\n"
          ]
        }
      ],
      "source": [
        "x_train=train_datagen.flow_from_directory(r\"/content/drive/MyDrive/flowersdataset/train\",target_size=(64,64),class_mode='categorical',batch_size=24)\n"
      ]
    },
    {
      "cell_type": "code",
      "execution_count": null,
      "metadata": {
        "colab": {
          "base_uri": "https://localhost:8080/"
        },
        "id": "V0q-Kz5BdQSi",
        "outputId": "a7cf47fb-11b1-4367-89e8-01612717f64f"
      },
      "outputs": [
        {
          "output_type": "stream",
          "name": "stdout",
          "text": [
            "Found 865 images belonging to 5 classes.\n"
          ]
        }
      ],
      "source": [
        "x_test=test_datagen.flow_from_directory(r\"/content/drive/MyDrive/flowersdataset/test\",target_size=(64,64),class_mode='categorical',batch_size=24)\n"
      ]
    },
    {
      "cell_type": "code",
      "execution_count": null,
      "metadata": {
        "colab": {
          "base_uri": "https://localhost:8080/"
        },
        "id": "f_iCbsKWdUGe",
        "outputId": "13104618-337f-4edb-f1f2-5b521cedcdde"
      },
      "outputs": [
        {
          "output_type": "execute_result",
          "data": {
            "text/plain": [
              "{'daisy': 0, 'dandelion': 1, 'rose': 2, 'sunflower': 3, 'tulip': 4}"
            ]
          },
          "metadata": {},
          "execution_count": 16
        }
      ],
      "source": [
        "x_train.class_indices\n"
      ]
    },
    {
      "cell_type": "markdown",
      "source": [
        "\n",
        "\n",
        "### 3.   **CREATE MODEL**\n",
        "\n"
      ],
      "metadata": {
        "id": "V5p66ZaNHKPl"
      }
    },
    {
      "cell_type": "code",
      "execution_count": null,
      "metadata": {
        "id": "YuI9-vr0dd5E"
      },
      "outputs": [],
      "source": [
        "from tensorflow.keras.models import Sequential\n",
        "from tensorflow.keras.layers import Dense,Convolution2D,MaxPooling2D,Flatten"
      ]
    },
    {
      "cell_type": "code",
      "execution_count": null,
      "metadata": {
        "id": "afr-JG15dliI"
      },
      "outputs": [],
      "source": [
        "model=Sequential()\n"
      ]
    },
    {
      "cell_type": "markdown",
      "source": [
        "\n",
        "\n",
        "\n",
        "### 4.   **ADD LAYERS(CONVOLUTION, MAX POOLING, FLATTEN, DENSE, HIDDEN, OUTPUT LAYERS)**\n",
        "\n"
      ],
      "metadata": {
        "id": "h6Ysyr-wHcmL"
      }
    },
    {
      "cell_type": "code",
      "execution_count": null,
      "metadata": {
        "id": "BA67BnSTeC6u"
      },
      "outputs": [],
      "source": [
        "#Adding Convolutional Layer\n",
        "model.add(Convolution2D(32,(3,3),input_shape=(64,64,3),activation='relu'))"
      ]
    },
    {
      "cell_type": "code",
      "execution_count": null,
      "metadata": {
        "id": "3H17kGbXeKJl"
      },
      "outputs": [],
      "source": [
        "#Adding Pooling Layer\n",
        "model.add(MaxPooling2D(pool_size=(2,2)))"
      ]
    },
    {
      "cell_type": "code",
      "execution_count": null,
      "metadata": {
        "id": "7ynaK1eSeN5z"
      },
      "outputs": [],
      "source": [
        "#Flatten Layer\n",
        "model.add(Flatten())"
      ]
    },
    {
      "cell_type": "code",
      "execution_count": null,
      "metadata": {
        "colab": {
          "base_uri": "https://localhost:8080/"
        },
        "id": "IvhCC44teRE4",
        "outputId": "1ea4334c-c9ad-4f3b-c3e8-d819963c6f69"
      },
      "outputs": [
        {
          "output_type": "stream",
          "name": "stdout",
          "text": [
            "Model: \"sequential\"\n",
            "_________________________________________________________________\n",
            " Layer (type)                Output Shape              Param #   \n",
            "=================================================================\n",
            " conv2d (Conv2D)             (None, 62, 62, 32)        896       \n",
            "                                                                 \n",
            " max_pooling2d (MaxPooling2D  (None, 31, 31, 32)       0         \n",
            " )                                                               \n",
            "                                                                 \n",
            " flatten (Flatten)           (None, 30752)             0         \n",
            "                                                                 \n",
            "=================================================================\n",
            "Total params: 896\n",
            "Trainable params: 896\n",
            "Non-trainable params: 0\n",
            "_________________________________________________________________\n"
          ]
        }
      ],
      "source": [
        "model.summary()\n"
      ]
    },
    {
      "cell_type": "code",
      "execution_count": null,
      "metadata": {
        "id": "GFiOpsxleXVD"
      },
      "outputs": [],
      "source": [
        "#Hidden Layers\n",
        "model.add(Dense(300,activation='relu'))\n",
        "model.add(Dense(150,activation='relu'))"
      ]
    },
    {
      "cell_type": "code",
      "execution_count": null,
      "metadata": {
        "id": "pW5TGFMVebLB"
      },
      "outputs": [],
      "source": [
        "#Output Layer\n",
        "model.add(Dense(5,activation='softmax'))"
      ]
    },
    {
      "cell_type": "markdown",
      "source": [
        "\n",
        "\n",
        "\n",
        "### 5.   **COMPILE THE MODEL** \n",
        "\n"
      ],
      "metadata": {
        "id": "jd7xPZncILdy"
      }
    },
    {
      "cell_type": "code",
      "execution_count": null,
      "metadata": {
        "id": "zyAE15WzeisD"
      },
      "outputs": [],
      "source": [
        "model.compile(loss='categorical_crossentropy',optimizer='adam',metrics=['accuracy'])\n"
      ]
    },
    {
      "cell_type": "code",
      "execution_count": null,
      "metadata": {
        "colab": {
          "base_uri": "https://localhost:8080/"
        },
        "id": "4m6cNRw_elr2",
        "outputId": "bbe31b01-58d3-4243-a534-d94c1d4c00f0"
      },
      "outputs": [
        {
          "output_type": "execute_result",
          "data": {
            "text/plain": [
              "144"
            ]
          },
          "metadata": {},
          "execution_count": 28
        }
      ],
      "source": [
        "len(x_train)\n"
      ]
    },
    {
      "cell_type": "markdown",
      "source": [
        "\n",
        "### 6.   **FIT THE MODEL**\n",
        "\n"
      ],
      "metadata": {
        "id": "yv4dfmhyJEAn"
      }
    },
    {
      "cell_type": "code",
      "execution_count": null,
      "metadata": {
        "colab": {
          "base_uri": "https://localhost:8080/"
        },
        "id": "iBvSuYaQe6a7",
        "outputId": "4e9a0506-a6f9-4a3a-bce2-9ee6fa2a8bf8"
      },
      "outputs": [
        {
          "output_type": "stream",
          "name": "stdout",
          "text": [
            "Epoch 1/10\n"
          ]
        },
        {
          "output_type": "stream",
          "name": "stderr",
          "text": [
            "/usr/local/lib/python3.7/dist-packages/ipykernel_launcher.py:1: UserWarning: `Model.fit_generator` is deprecated and will be removed in a future version. Please use `Model.fit`, which supports generators.\n",
            "  \"\"\"Entry point for launching an IPython kernel.\n"
          ]
        },
        {
          "output_type": "stream",
          "name": "stdout",
          "text": [
            "144/144 [==============================] - 18s 126ms/step - loss: 0.7712 - accuracy: 0.7086 - val_loss: 0.9611 - val_accuracy: 0.6277\n",
            "Epoch 2/10\n",
            "144/144 [==============================] - 18s 127ms/step - loss: 0.7241 - accuracy: 0.7219 - val_loss: 1.0017 - val_accuracy: 0.6358\n",
            "Epoch 3/10\n",
            "144/144 [==============================] - 18s 127ms/step - loss: 0.6713 - accuracy: 0.7390 - val_loss: 0.9800 - val_accuracy: 0.6566\n",
            "Epoch 4/10\n",
            "144/144 [==============================] - 18s 126ms/step - loss: 0.6496 - accuracy: 0.7584 - val_loss: 0.9857 - val_accuracy: 0.6347\n",
            "Epoch 5/10\n",
            "144/144 [==============================] - 18s 126ms/step - loss: 0.5961 - accuracy: 0.7758 - val_loss: 1.3042 - val_accuracy: 0.5977\n",
            "Epoch 6/10\n",
            "144/144 [==============================] - 19s 134ms/step - loss: 0.5691 - accuracy: 0.7848 - val_loss: 1.1743 - val_accuracy: 0.6486\n",
            "Epoch 7/10\n",
            "144/144 [==============================] - 18s 125ms/step - loss: 0.5266 - accuracy: 0.8065 - val_loss: 1.0406 - val_accuracy: 0.6624\n",
            "Epoch 8/10\n",
            "144/144 [==============================] - 18s 124ms/step - loss: 0.4916 - accuracy: 0.8166 - val_loss: 1.1685 - val_accuracy: 0.6277\n",
            "Epoch 9/10\n",
            "144/144 [==============================] - 18s 124ms/step - loss: 0.4605 - accuracy: 0.8294 - val_loss: 1.2157 - val_accuracy: 0.6451\n",
            "Epoch 10/10\n",
            "144/144 [==============================] - 18s 124ms/step - loss: 0.4216 - accuracy: 0.8453 - val_loss: 1.3665 - val_accuracy: 0.6162\n"
          ]
        },
        {
          "output_type": "execute_result",
          "data": {
            "text/plain": [
              "<keras.callbacks.History at 0x7f53c93ccc50>"
            ]
          },
          "metadata": {},
          "execution_count": 33
        }
      ],
      "source": [
        "model.fit_generator(x_train,steps_per_epoch=len(x_train),validation_data=x_test,validation_steps=len(x_test),epochs=10)\n"
      ]
    },
    {
      "cell_type": "markdown",
      "source": [
        "### 7.   **SAVE THE MODEL**\n",
        "\n"
      ],
      "metadata": {
        "id": "FavyGRLYJS9Q"
      }
    },
    {
      "cell_type": "code",
      "execution_count": null,
      "metadata": {
        "id": "2_w4cVYdfX1l"
      },
      "outputs": [],
      "source": [
        "model.save('flowers.h5')\n"
      ]
    },
    {
      "cell_type": "markdown",
      "source": [
        "\n",
        "### 8.   **TEST THE MODEL**\n",
        "\n"
      ],
      "metadata": {
        "id": "4xtH-vT6Jv_7"
      }
    },
    {
      "cell_type": "code",
      "execution_count": null,
      "metadata": {
        "id": "CBwrf4zzfkeY"
      },
      "outputs": [],
      "source": [
        "import numpy as np\n",
        "from tensorflow.keras.models import load_model\n",
        "from tensorflow.keras.preprocessing import image"
      ]
    },
    {
      "cell_type": "code",
      "execution_count": null,
      "metadata": {
        "colab": {
          "base_uri": "https://localhost:8080/",
          "height": 145
        },
        "id": "7qMylhp0f9mY",
        "outputId": "15ab67f6-8a46-45ee-f4fb-488d6c321c2b"
      },
      "outputs": [
        {
          "output_type": "execute_result",
          "data": {
            "text/plain": [
              "<PIL.Image.Image image mode=RGB size=128x128 at 0x7F53C94404D0>"
            ],
            "image/png": "[encoded data removed]"
          },
          "metadata": {},
          "execution_count": 41
        }
      ],
      "source": [
        "#img = image.load_img(r\"/content/drive/MyDrive/cnn/flowers/rose/10503217854_e66a804309.jpg\")\n",
        "img=image.load_img(r\"/content/drive/MyDrive/flowersdataset/test/daisy/3706420943_66f3214862_n.jpg\",target_size=(128,128))\n",
        "img"
      ]
    },
    {
      "cell_type": "code",
      "execution_count": null,
      "metadata": {
        "colab": {
          "base_uri": "https://localhost:8080/",
          "height": 36
        },
        "id": "2OvERHNCfqQX",
        "outputId": "e8d6bf34-2e33-4402-b9a7-9ed94d452e67"
      },
      "outputs": [
        {
          "output_type": "execute_result",
          "data": {
            "text/plain": [
              "'daisy'"
            ],
            "application/vnd.google.colaboratory.intrinsic+json": {
              "type": "string"
            }
          },
          "metadata": {},
          "execution_count": 42
        }
      ],
      "source": [
        "img=image.load_img(r\"/content/drive/MyDrive/flowersdataset/test/daisy/3706420943_66f3214862_n.jpg\",target_size=(64,64))\n",
        "x=image.img_to_array(img)\n",
        "x=np.expand_dims(x,axis=0)\n",
        "y=np.argmax(model.predict(x),axis=1)\n",
        "x_train.class_indices\n",
        "index=['daisy','dandellion','rose','sunflower','tulip']\n",
        "index[y[0]]"
      ]
    },
    {
      "cell_type": "code",
      "execution_count": null,
      "metadata": {
        "id": "IQ2DBHWOWLcY"
      },
      "outputs": [],
      "source": [
        "import numpy as np\n",
        "from tensorflow.keras.preprocessing import image"
      ]
    },
    {
      "cell_type": "code",
      "execution_count": null,
      "metadata": {
        "colab": {
          "base_uri": "https://localhost:8080/",
          "height": 257
        },
        "id": "ElgYLmwPWccf",
        "outputId": "6bd6f6e7-1353-4743-fbdb-1448d8a10084"
      },
      "outputs": [
        {
          "output_type": "execute_result",
          "data": {
            "text/plain": [
              "<PIL.Image.Image image mode=RGB size=240x240 at 0x7F5350257A50>"
            ],
            "image/png": "[encoded data removed]"
          },
          "metadata": {},
          "execution_count": 44
        }
      ],
      "source": [
        "img=image.load_img(r\"/content/drive/MyDrive/flowersdataset/test/daisy/99306615_739eb94b9e_m.jpg\",target_size=(240,240))\n",
        "img"
      ]
    },
    {
      "cell_type": "markdown",
      "metadata": {
        "id": "XhgotmhlXNDU"
      },
      "source": [
        "#**Array Conversion**"
      ]
    },
    {
      "cell_type": "code",
      "execution_count": null,
      "metadata": {
        "colab": {
          "base_uri": "https://localhost:8080/"
        },
        "id": "IyFpylqrWcsR",
        "outputId": "ae1ba329-cd9a-446f-8d2a-0e0a4d234ae6"
      },
      "outputs": [
        {
          "output_type": "execute_result",
          "data": {
            "text/plain": [
              "array([[[128., 123.,  94.],\n",
              "        [131., 126.,  97.],\n",
              "        [131., 126.,  97.],\n",
              "        ...,\n",
              "        [ 46.,  77.,  17.],\n",
              "        [ 46.,  77.,  17.],\n",
              "        [ 46.,  75.,  17.]],\n",
              "\n",
              "       [[124., 119.,  89.],\n",
              "        [128., 123.,  94.],\n",
              "        [128., 123.,  94.],\n",
              "        ...,\n",
              "        [ 44.,  73.,  15.],\n",
              "        [ 44.,  73.,  15.],\n",
              "        [ 43.,  70.,  17.]],\n",
              "\n",
              "       [[119., 116.,  85.],\n",
              "        [125., 121.,  92.],\n",
              "        [125., 121.,  92.],\n",
              "        ...,\n",
              "        [ 43.,  70.,  17.],\n",
              "        [ 43.,  70.,  17.],\n",
              "        [ 43.,  67.,  19.]],\n",
              "\n",
              "       ...,\n",
              "\n",
              "       [[ 49.,  56.,  14.],\n",
              "        [119., 112.,  58.],\n",
              "        [119., 112.,  58.],\n",
              "        ...,\n",
              "        [ 94., 131.,  62.],\n",
              "        [ 94., 131.,  62.],\n",
              "        [ 79., 121.,  37.]],\n",
              "\n",
              "       [[ 88.,  86.,  38.],\n",
              "        [126., 114.,  66.],\n",
              "        [126., 114.,  66.],\n",
              "        ...,\n",
              "        [ 91., 125.,  64.],\n",
              "        [ 91., 125.,  64.],\n",
              "        [ 82., 120.,  45.]],\n",
              "\n",
              "       [[110.,  97.,  63.],\n",
              "        [121., 105.,  79.],\n",
              "        [121., 105.,  79.],\n",
              "        ...,\n",
              "        [ 80., 111.,  52.],\n",
              "        [ 80., 111.,  52.],\n",
              "        [ 63.,  98.,  30.]]], dtype=float32)"
            ]
          },
          "metadata": {},
          "execution_count": 45
        }
      ],
      "source": [
        "x = image.img_to_array(img)\n",
        "x"
      ]
    },
    {
      "cell_type": "code",
      "execution_count": null,
      "metadata": {
        "colab": {
          "base_uri": "https://localhost:8080/"
        },
        "id": "srFhuXaUXlDZ",
        "outputId": "c4434a09-1e3e-4748-c884-c065d7cfa468"
      },
      "outputs": [
        {
          "output_type": "execute_result",
          "data": {
            "text/plain": [
              "array([[[[128., 123.,  94.],\n",
              "         [131., 126.,  97.],\n",
              "         [131., 126.,  97.],\n",
              "         ...,\n",
              "         [ 46.,  77.,  17.],\n",
              "         [ 46.,  77.,  17.],\n",
              "         [ 46.,  75.,  17.]],\n",
              "\n",
              "        [[124., 119.,  89.],\n",
              "         [128., 123.,  94.],\n",
              "         [128., 123.,  94.],\n",
              "         ...,\n",
              "         [ 44.,  73.,  15.],\n",
              "         [ 44.,  73.,  15.],\n",
              "         [ 43.,  70.,  17.]],\n",
              "\n",
              "        [[119., 116.,  85.],\n",
              "         [125., 121.,  92.],\n",
              "         [125., 121.,  92.],\n",
              "         ...,\n",
              "         [ 43.,  70.,  17.],\n",
              "         [ 43.,  70.,  17.],\n",
              "         [ 43.,  67.,  19.]],\n",
              "\n",
              "        ...,\n",
              "\n",
              "        [[ 49.,  56.,  14.],\n",
              "         [119., 112.,  58.],\n",
              "         [119., 112.,  58.],\n",
              "         ...,\n",
              "         [ 94., 131.,  62.],\n",
              "         [ 94., 131.,  62.],\n",
              "         [ 79., 121.,  37.]],\n",
              "\n",
              "        [[ 88.,  86.,  38.],\n",
              "         [126., 114.,  66.],\n",
              "         [126., 114.,  66.],\n",
              "         ...,\n",
              "         [ 91., 125.,  64.],\n",
              "         [ 91., 125.,  64.],\n",
              "         [ 82., 120.,  45.]],\n",
              "\n",
              "        [[110.,  97.,  63.],\n",
              "         [121., 105.,  79.],\n",
              "         [121., 105.,  79.],\n",
              "         ...,\n",
              "         [ 80., 111.,  52.],\n",
              "         [ 80., 111.,  52.],\n",
              "         [ 63.,  98.,  30.]]]], dtype=float32)"
            ]
          },
          "metadata": {},
          "execution_count": 46
        }
      ],
      "source": [
        "x = np.expand_dims(x,axis=0)\n",
        "x"
      ]
    },
    {
      "cell_type": "markdown",
      "metadata": {
        "id": "82SrkzFaXoxc"
      },
      "source": [
        "**PREDICTION**"
      ]
    },
    {
      "cell_type": "code",
      "execution_count": null,
      "metadata": {
        "id": "OdXw_jF6XshP"
      },
      "outputs": [],
      "source": [
        "from keras.callbacks import EarlyStopping, ReduceLROnPlateau\n",
        "\n",
        "\n",
        "early_stopping = EarlyStopping(monitor='val_accuracy',\n",
        "                        patience=5)\n",
        "reduce_lr = ReduceLROnPlateau(monitor='val_accuracy',\n",
        "                        patience=5,\n",
        "                        factor=0.5,min_lr=0.00001)\n",
        "\n",
        "callback = [reduce_lr,early_stopping]"
      ]
    },
    {
      "cell_type": "code",
      "execution_count": null,
      "metadata": {
        "id": "qxYz9AbhYf7P",
        "colab": {
          "base_uri": "https://localhost:8080/"
        },
        "outputId": "10002b41-7269-4ce2-da70-3f58a41c00ce"
      },
      "outputs": [
        {
          "output_type": "stream",
          "name": "stdout",
          "text": [
            "Epoch 1/10\n"
          ]
        },
        {
          "output_type": "stream",
          "name": "stderr",
          "text": [
            "/usr/local/lib/python3.7/dist-packages/ipykernel_launcher.py:6: UserWarning: `Model.fit_generator` is deprecated and will be removed in a future version. Please use `Model.fit`, which supports generators.\n",
            "  \n"
          ]
        },
        {
          "output_type": "stream",
          "name": "stdout",
          "text": [
            "144/144 [==============================] - 18s 124ms/step - loss: 0.3998 - accuracy: 0.8546 - val_loss: 1.1986 - val_accuracy: 0.6474 - lr: 0.0010\n",
            "Epoch 2/10\n",
            "144/144 [==============================] - 18s 124ms/step - loss: 0.3423 - accuracy: 0.8743 - val_loss: 1.2779 - val_accuracy: 0.6520 - lr: 0.0010\n",
            "Epoch 3/10\n",
            "144/144 [==============================] - 18s 123ms/step - loss: 0.3601 - accuracy: 0.8746 - val_loss: 1.3240 - val_accuracy: 0.6751 - lr: 0.0010\n",
            "Epoch 4/10\n",
            "144/144 [==============================] - 18s 124ms/step - loss: 0.3210 - accuracy: 0.8833 - val_loss: 1.3387 - val_accuracy: 0.6543 - lr: 0.0010\n",
            "Epoch 5/10\n",
            "144/144 [==============================] - 18s 124ms/step - loss: 0.2878 - accuracy: 0.9009 - val_loss: 1.6106 - val_accuracy: 0.6046 - lr: 0.0010\n",
            "Epoch 6/10\n",
            "144/144 [==============================] - 18s 124ms/step - loss: 0.2683 - accuracy: 0.9047 - val_loss: 1.3772 - val_accuracy: 0.6647 - lr: 0.0010\n",
            "Epoch 7/10\n",
            "144/144 [==============================] - 18s 125ms/step - loss: 0.2607 - accuracy: 0.9122 - val_loss: 1.4208 - val_accuracy: 0.6647 - lr: 0.0010\n",
            "Epoch 8/10\n",
            "144/144 [==============================] - 18s 125ms/step - loss: 0.2459 - accuracy: 0.9163 - val_loss: 1.4632 - val_accuracy: 0.6532 - lr: 0.0010\n"
          ]
        },
        {
          "output_type": "execute_result",
          "data": {
            "text/plain": [
              "<keras.callbacks.History at 0x7f535025ef50>"
            ]
          },
          "metadata": {},
          "execution_count": 48
        }
      ],
      "source": [
        "\n",
        "model.fit_generator(x_train,\n",
        "                    steps_per_epoch=len(x_train),\n",
        "                    epochs=10,\n",
        "                    callbacks=callback,\n",
        "                    validation_data=x_test,\n",
        "                    validation_steps=len(x_test))"
      ]
    },
    {
      "cell_type": "code",
      "execution_count": null,
      "metadata": {
        "id": "XV-KGFvJa-hr",
        "colab": {
          "base_uri": "https://localhost:8080/"
        },
        "outputId": "19e4f613-0382-4650-d91c-6b5b46109267"
      },
      "outputs": [
        {
          "output_type": "execute_result",
          "data": {
            "text/plain": [
              "{'daisy': 0, 'dandelion': 1, 'rose': 2, 'sunflower': 3, 'tulip': 4}"
            ]
          },
          "metadata": {},
          "execution_count": 49
        }
      ],
      "source": [
        "x_train.class_indices"
      ]
    },
    {
      "cell_type": "code",
      "execution_count": null,
      "metadata": {
        "id": "aqZf0bMscL0n",
        "colab": {
          "base_uri": "https://localhost:8080/",
          "height": 36
        },
        "outputId": "8744e61d-bed0-4109-96da-86b62fcac8bb"
      },
      "outputs": [
        {
          "output_type": "execute_result",
          "data": {
            "text/plain": [
              "'daisy'"
            ],
            "application/vnd.google.colaboratory.intrinsic+json": {
              "type": "string"
            }
          },
          "metadata": {},
          "execution_count": 50
        }
      ],
      "source": [
        "img=image.load_img(r\"/content/drive/MyDrive/flowersdataset/test/daisy/3706420943_66f3214862_n.jpg\",target_size=(64,64))\n",
        "x=image.img_to_array(img)\n",
        "x=np.expand_dims(x,axis=0)\n",
        "y=np.argmax(model.predict(x),axis=1)\n",
        "x_train.class_indices\n",
        "index=['daisy','dandellion','rose','sunflower','tulip']\n",
        "index[y[0]]"
      ]
    },
    {
      "cell_type": "code",
      "execution_count": null,
      "metadata": {
        "id": "N5z0t6ULdAAQ",
        "colab": {
          "base_uri": "https://localhost:8080/",
          "height": 36
        },
        "outputId": "ac64947c-a820-4e3d-cf5d-10085d4b9518"
      },
      "outputs": [
        {
          "output_type": "execute_result",
          "data": {
            "text/plain": [
              "'daisy'"
            ],
            "application/vnd.google.colaboratory.intrinsic+json": {
              "type": "string"
            }
          },
          "metadata": {},
          "execution_count": 51
        }
      ],
      "source": [
        "op = ['daisy','dandelion','rose','sunflower','tulip']\n",
        "pred = np.argmax(model.predict(x))\n",
        "op[pred]"
      ]
    }
  ],
  "metadata": {
    "accelerator": "GPU",
    "colab": {
      "provenance": [],
      "collapsed_sections": [
        "V5p66ZaNHKPl",
        "h6Ysyr-wHcmL",
        "jd7xPZncILdy",
        "yv4dfmhyJEAn",
        "FavyGRLYJS9Q",
        "4xtH-vT6Jv_7"
      ]
    },
    "kernelspec": {
      "display_name": "Python 3",
      "name": "python3"
    },
    "language_info": {
      "name": "python"
    }
  },
  "nbformat": 4,
  "nbformat_minor": 0
}